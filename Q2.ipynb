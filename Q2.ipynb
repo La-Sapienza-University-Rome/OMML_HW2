{
 "cells": [
  {
   "cell_type": "code",
   "execution_count": 1,
   "metadata": {},
   "outputs": [],
   "source": [
    "%load_ext autoreload\n",
    "%autoreload 2"
   ]
  },
  {
   "cell_type": "markdown",
   "metadata": {},
   "source": [
    "## Imports and data preparation borrowed from Q1.ipynb"
   ]
  },
  {
   "cell_type": "code",
   "execution_count": 2,
   "metadata": {},
   "outputs": [],
   "source": [
    "from funcs import SVMDecomposition, SVM, process_df\n",
    "import pandas as pd\n",
    "from sklearn import preprocessing\n",
    "from sklearn.model_selection import train_test_split\n",
    "from sklearn.svm import SVC"
   ]
  },
  {
   "cell_type": "code",
   "execution_count": 3,
   "metadata": {},
   "outputs": [],
   "source": [
    "df = pd.read_csv('data/Letters_Q_O.csv')\n",
    "columns = list(df.columns[:-1])"
   ]
  },
  {
   "cell_type": "code",
   "execution_count": 4,
   "metadata": {},
   "outputs": [],
   "source": [
    "df[columns] = preprocessing.StandardScaler().fit_transform(df[columns])\n",
    "\n",
    "train_df, test_df = train_test_split(df, test_size=0.2, random_state=1939671)"
   ]
  },
  {
   "cell_type": "code",
   "execution_count": 38,
   "metadata": {},
   "outputs": [],
   "source": [
    "train_df = train_df.drop_duplicates()"
   ]
  },
  {
   "cell_type": "code",
   "execution_count": 39,
   "metadata": {},
   "outputs": [],
   "source": [
    "X, y = process_df(train_df, ['Q', 'O'])\n",
    "X_test, y_test = process_df(test_df, letters=['Q', 'O'])"
   ]
  },
  {
   "cell_type": "code",
   "execution_count": 40,
   "metadata": {},
   "outputs": [],
   "source": [
    "C = 5\n",
    "gamma = 0.1\n",
    "kernel = 'rbf'\n",
    "\n",
    "compared_scores = {'SVMDecomposition':0, \n",
    "                   'SVM_q1':0,\n",
    "                   'SVM_sklearn':0}"
   ]
  },
  {
   "cell_type": "markdown",
   "metadata": {},
   "source": [
    "## Check Q2 implementation"
   ]
  },
  {
   "cell_type": "code",
   "execution_count": 41,
   "metadata": {},
   "outputs": [],
   "source": [
    "svm = SVMDecomposition(X, y, C, gamma, kernel)"
   ]
  },
  {
   "cell_type": "code",
   "execution_count": 52,
   "metadata": {},
   "outputs": [
    {
     "name": "stdout",
     "output_type": "stream",
     "text": [
      "working set [382 230 350 981]\n",
      "ma - Ma 2.5415749817000384\n",
      "[4.9999904  2.15665352 4.99999998 4.99999998]\n",
      "Converged after 10000 iterations\n"
     ]
    }
   ],
   "source": [
    "svm.fit(working_set_size=4, max_iters=10000, stop_thr=1e-5)"
   ]
  },
  {
   "cell_type": "code",
   "execution_count": 54,
   "metadata": {},
   "outputs": [
    {
     "name": "stdout",
     "output_type": "stream",
     "text": [
      "working set [1012  641 1019  235]\n",
      "ma - Ma 0.0012624955073647914\n",
      "[0.00465149 0.00543607 4.34782405 3.41621561]\n",
      "Converged after 10000 iterations\n"
     ]
    }
   ],
   "source": [
    "svm.fit(working_set_size=4, max_iters=10000, stop_thr=1e-5)"
   ]
  },
  {
   "cell_type": "code",
   "execution_count": 55,
   "metadata": {},
   "outputs": [
    {
     "name": "stdout",
     "output_type": "stream",
     "text": [
      "working set [1012  641  818  130  142  950   66  834  297  758]\n",
      "ma - Ma 0.0012248762605894248\n",
      "[0.00597362 0.00608278 0.07531331 0.18338872 1.87712064 2.31267882\n",
      " 4.34888843 3.4756889  3.43528667 3.29039438]\n",
      "Converged after 10000 iterations\n"
     ]
    }
   ],
   "source": [
    "svm.fit(working_set_size=10, max_iters=10000, stop_thr=1e-5)"
   ]
  },
  {
   "cell_type": "code",
   "execution_count": 56,
   "metadata": {},
   "outputs": [
    {
     "name": "stdout",
     "output_type": "stream",
     "text": [
      "working set [1034 1012  641  161 1019  651]\n",
      "ma - Ma 0.0015681845721464138\n",
      "[3.63061737e-03 5.06728239e-03 4.98256971e-03 3.85419719e-01\n",
      " 4.34947733e+00 4.15377184e+00]\n",
      "Converged after 5000 iterations\n"
     ]
    }
   ],
   "source": [
    "svm.fit(working_set_size=6, max_iters=5000, stop_thr=1e-5)"
   ]
  },
  {
   "cell_type": "code",
   "execution_count": 59,
   "metadata": {},
   "outputs": [
    {
     "name": "stdout",
     "output_type": "stream",
     "text": [
      "working set [1034  651  778  130  344  274]\n",
      "ma - Ma 0.0030947348533158503\n",
      "[3.33151061e-03 4.82930747e+00 4.63100996e+00 2.60063489e+00\n",
      " 3.85607380e-01 1.87371438e+00]\n",
      "Converged after 1026 iterations\n"
     ]
    }
   ],
   "source": [
    "svm.fit(working_set_size=6, max_iters=5000, stop_thr=1e-3)"
   ]
  },
  {
   "cell_type": "code",
   "execution_count": 62,
   "metadata": {},
   "outputs": [
    {
     "name": "stdout",
     "output_type": "stream",
     "text": [
      "Converged after 5000 iterations\n"
     ]
    }
   ],
   "source": [
    "svm.fit(working_set_size=10, max_iters=5000, stop_thr=1e-3)"
   ]
  },
  {
   "cell_type": "code",
   "execution_count": 74,
   "metadata": {},
   "outputs": [
    {
     "name": "stdout",
     "output_type": "stream",
     "text": [
      "Converged after 840 iterations\n"
     ]
    }
   ],
   "source": [
    "svm.fit(working_set_size=10, max_iters=5000, stop_thr=1e-3, tol=1e-3)"
   ]
  },
  {
   "cell_type": "code",
   "execution_count": 75,
   "metadata": {},
   "outputs": [],
   "source": [
    "compared_scores['SVMDecomposition'] = svm.eval(X_test, y_test)"
   ]
  },
  {
   "cell_type": "markdown",
   "metadata": {},
   "source": [
    "## Compare performance with the Q1 and sklearn objects"
   ]
  },
  {
   "cell_type": "code",
   "execution_count": 64,
   "metadata": {},
   "outputs": [],
   "source": [
    "svm_q1 = SVM(X, y, C, gamma, kernel)\n",
    "svm_q1.fit()\n",
    "compared_scores['SVM_q1'] = svm_q1.eval(X_test, y_test)"
   ]
  },
  {
   "cell_type": "code",
   "execution_count": 65,
   "metadata": {},
   "outputs": [],
   "source": [
    "clf = SVC(kernel = 'rbf', gamma=0.1, C=5)\n",
    "clf.fit(X, y)\n",
    "compared_scores['SVM_sklearn'] = clf.score(X_test, y_test)"
   ]
  },
  {
   "cell_type": "code",
   "execution_count": 76,
   "metadata": {},
   "outputs": [
    {
     "data": {
      "text/plain": [
       "{'SVMDecomposition': 0.996268656716418,\n",
       " 'SVM_q1': 0.996268656716418,\n",
       " 'SVM_sklearn': 0.996268656716418}"
      ]
     },
     "execution_count": 76,
     "metadata": {},
     "output_type": "execute_result"
    }
   ],
   "source": [
    "compared_scores"
   ]
  },
  {
   "cell_type": "code",
   "execution_count": null,
   "metadata": {},
   "outputs": [],
   "source": []
  }
 ],
 "metadata": {
  "interpreter": {
   "hash": "5fbf41bf6ad929fb0341f28c69c1bcd2fe2bae5288578e1206f967af2d9571f4"
  },
  "kernelspec": {
   "display_name": "Python 3.9.7 64-bit ('.venv': venv)",
   "language": "python",
   "name": "python3"
  },
  "language_info": {
   "codemirror_mode": {
    "name": "ipython",
    "version": 3
   },
   "file_extension": ".py",
   "mimetype": "text/x-python",
   "name": "python",
   "nbconvert_exporter": "python",
   "pygments_lexer": "ipython3",
   "version": "3.9.9"
  },
  "orig_nbformat": 4
 },
 "nbformat": 4,
 "nbformat_minor": 2
}
