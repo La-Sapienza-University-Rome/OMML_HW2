{
 "cells": [
  {
   "cell_type": "code",
   "execution_count": 1,
   "metadata": {},
   "outputs": [],
   "source": [
    "%load_ext autoreload\n",
    "%autoreload 2"
   ]
  },
  {
   "cell_type": "code",
   "execution_count": 2,
   "metadata": {},
   "outputs": [],
   "source": [
    "import os\n",
    "import sys\n",
    "import matplotlib.pyplot as plt\n",
    "\n",
    "module_path = os.path.abspath(os.path.join('..\\..'))\n",
    "if module_path not in sys.path:\n",
    "    sys.path.insert(0, module_path)"
   ]
  },
  {
   "cell_type": "code",
   "execution_count": 3,
   "metadata": {},
   "outputs": [],
   "source": [
    "from funcs import SVM\n",
    "import pandas as pd\n",
    "from sklearn import preprocessing\n",
    "import numpy as np\n",
    "from sklearn.model_selection import train_test_split\n",
    "import itertools\n",
    "from sklearn.model_selection import KFold\n",
    "from sklearn.svm import SVC"
   ]
  },
  {
   "cell_type": "code",
   "execution_count": 4,
   "metadata": {},
   "outputs": [],
   "source": [
    "df = pd.read_csv('data/Letters_Q_O.csv')\n",
    "\n",
    "train_df, test_df = train_test_split(df, test_size=0.2, random_state=1939671)"
   ]
  },
  {
   "cell_type": "code",
   "execution_count": 5,
   "metadata": {},
   "outputs": [],
   "source": [
    "def process_df(df):\n",
    "    X = np.array(df.drop(['letter'], axis=1))\n",
    "    y_letter = np.array(df[['letter']])\n",
    "\n",
    "    scaler = preprocessing.StandardScaler().fit(X)\n",
    "    X = scaler.transform(X)\n",
    "\n",
    "    y = []\n",
    "    for i in y_letter:\n",
    "        if i[0] == 'Q':\n",
    "            y.append(-1)\n",
    "        else:\n",
    "            y.append(1)\n",
    "    y = np.array(y)\n",
    "    return X, y"
   ]
  },
  {
   "cell_type": "code",
   "execution_count": null,
   "metadata": {},
   "outputs": [],
   "source": []
  },
  {
   "cell_type": "code",
   "execution_count": 10,
   "metadata": {
    "scrolled": true
   },
   "outputs": [
    {
     "name": "stdout",
     "output_type": "stream",
     "text": [
      "C:  1\n",
      "gamma:  1\n",
      "kernel:  polynomial\n",
      "Accuracy:  0.9522223684787855\n",
      "Accuracy Sklearn:  0.9625334561888466\n",
      "=======================\n",
      "\n",
      "C:  1\n",
      "gamma:  2\n",
      "kernel:  polynomial\n",
      "Accuracy:  0.9596814532052127\n",
      "Accuracy Sklearn:  0.8623535606160327\n",
      "=======================\n",
      "\n",
      "C:  5\n",
      "gamma:  1\n",
      "kernel:  polynomial\n",
      "Accuracy:  0.9522223684787854\n",
      "Accuracy Sklearn:  0.9672019656882103\n",
      "=======================\n",
      "\n",
      "C:  5\n",
      "gamma:  2\n",
      "kernel:  polynomial\n",
      "Accuracy:  0.9606204203413629\n",
      "Accuracy Sklearn:  0.8979421701548856\n",
      "=======================\n",
      "\n"
     ]
    }
   ],
   "source": [
    "grid_C = [1, 5, 10, 20, 30, 40, 50]\n",
    "grid_gamma = [1, 2, 3, 4, 5]\n",
    "grid_kernel = ['polynomial']\n",
    "\n",
    "iterables = [grid_C, grid_gamma, grid_kernel]\n",
    "min_loss = 1000\n",
    "k_fold = 5\n",
    "\n",
    "kf5 = KFold(n_splits=k_fold, shuffle=False)\n",
    "\n",
    "list_ = [['C', 'Gamma', 'Kernel', 'Validation Loss']]\n",
    "\n",
    "for t in itertools.product(*iterables):\n",
    "    \n",
    "    val_loss = 0\n",
    "    val_loss_sklearn = 0\n",
    "    \n",
    "    C = t[0]\n",
    "    gamma = t[1]\n",
    "    kernel = t[2]\n",
    "    \n",
    "    print('C: ', C)\n",
    "    print('gamma: ', gamma)\n",
    "    print('kernel: ', kernel)\n",
    "    \n",
    "    for train_index, test_index in kf5.split(train_df):\n",
    "        \n",
    "        X_, y_ = process_df(train_df.iloc[train_index])\n",
    "        X_val, y_val = process_df(train_df.iloc[test_index])\n",
    "\n",
    "        svm = SVM(X_, y_, C=C, gamma=gamma, kernel=kernel)\n",
    "        svm.fit(tol=1e-5, fix_intercept=True)\n",
    "        \n",
    "        val_loss += svm.pred(X_val, y_val)\n",
    "        \n",
    "        # sklearn implementation\n",
    "        clf = SVC(kernel = 'poly', degree=gamma, C=C)\n",
    "        clf.fit(X_, y_)\n",
    "        val_loss_sklearn += clf.score(X_val, y_val)\n",
    "        \n",
    "    val_loss = val_loss/k_fold\n",
    "    val_loss_sklearn = val_loss_sklearn/k_fold\n",
    "    print('Accuracy: ', val_loss)\n",
    "    print('Accuracy Sklearn: ', val_loss_sklearn)\n",
    "    print('=======================')\n",
    "    print('')\n",
    "    \n",
    "    list_.append([C, gamma, kernel, val_loss])"
   ]
  },
  {
   "cell_type": "code",
   "execution_count": 12,
   "metadata": {},
   "outputs": [
    {
     "name": "stdout",
     "output_type": "stream",
     "text": [
      "C:  1\n",
      "gamma:  0.01\n",
      "kernel:  rbf\n",
      "Accuracy:  0.9494274055548242\n",
      "Accuracy Sklearn:  0.9559914001140802\n",
      "=======================\n",
      "\n",
      "C:  1\n",
      "gamma:  0.1\n",
      "kernel:  rbf\n",
      "Accuracy:  0.9793822122767759\n",
      "Accuracy Sklearn:  0.9878329165021281\n",
      "=======================\n",
      "\n",
      "C:  5\n",
      "gamma:  0.01\n",
      "kernel:  rbf\n",
      "Accuracy:  0.9737659602474661\n",
      "Accuracy Sklearn:  0.9306919398007985\n",
      "=======================\n",
      "\n",
      "C:  5\n",
      "gamma:  0.1\n",
      "kernel:  rbf\n",
      "Accuracy:  0.9831249177306832\n",
      "Accuracy Sklearn:  0.9672239041726997\n",
      "=======================\n",
      "\n"
     ]
    }
   ],
   "source": [
    "grid_C = [1, 5, 10, 20, 30, 40, 50]\n",
    "grid_gamma = [0.01, 0.1, 0.2, 0.5, 0.75, 0.9]\n",
    "grid_kernel = ['rbf']\n",
    "\n",
    "iterables = [grid_C, grid_gamma, grid_kernel]\n",
    "min_loss = 1000\n",
    "k_fold = 5\n",
    "\n",
    "kf5 = KFold(n_splits=k_fold, shuffle=False)\n",
    "\n",
    "for t in itertools.product(*iterables):\n",
    "    \n",
    "    val_loss = 0\n",
    "    val_loss_sklearn = 0\n",
    "    \n",
    "    C = t[0]\n",
    "    gamma = t[1]\n",
    "    kernel = t[2]\n",
    "    \n",
    "    print('C: ', C)\n",
    "    print('gamma: ', gamma)\n",
    "    print('kernel: ', kernel)\n",
    "    \n",
    "    for train_index, test_index in kf5.split(train_df):\n",
    "        \n",
    "        X_, y_ = process_df(train_df.iloc[train_index])\n",
    "        X_val, y_val = process_df(train_df.iloc[test_index])\n",
    "\n",
    "        svm = SVM(X_, y_, C=C, gamma=gamma, kernel=kernel)\n",
    "        svm.fit(tol=1e-5, fix_intercept=False)\n",
    "        \n",
    "        # sklearn implementation\n",
    "        clf = SVC(kernel = 'rbf', gamma=gamma, C=1/C)\n",
    "        clf.fit(X_, y_)\n",
    "        val_loss_sklearn += clf.score(X_val, y_val)\n",
    "        \n",
    "        val_loss += svm.pred(X_val, y_val)\n",
    "        \n",
    "    val_loss = val_loss/k_fold\n",
    "    val_loss_sklearn = val_loss_sklearn/k_fold\n",
    "    print('Accuracy: ', val_loss)\n",
    "    print('Accuracy Sklearn: ', val_loss_sklearn)\n",
    "    print('=======================')\n",
    "    print('')\n",
    "    \n",
    "    list_.append([C, gamma, kernel, val_loss])"
   ]
  },
  {
   "cell_type": "code",
   "execution_count": 244,
   "metadata": {},
   "outputs": [],
   "source": [
    "res_df = pd.DataFrame(list_)\n",
    "res_df.to_csv('res.csv', index=False, header=False)"
   ]
  },
  {
   "cell_type": "code",
   "execution_count": null,
   "metadata": {},
   "outputs": [],
   "source": []
  },
  {
   "cell_type": "code",
   "execution_count": null,
   "metadata": {},
   "outputs": [],
   "source": []
  },
  {
   "cell_type": "code",
   "execution_count": null,
   "metadata": {},
   "outputs": [],
   "source": []
  }
 ],
 "metadata": {
  "kernelspec": {
   "display_name": "data_science_general",
   "language": "python",
   "name": "data_science_general"
  },
  "language_info": {
   "codemirror_mode": {
    "name": "ipython",
    "version": 3
   },
   "file_extension": ".py",
   "mimetype": "text/x-python",
   "name": "python",
   "nbconvert_exporter": "python",
   "pygments_lexer": "ipython3",
   "version": "3.7.9"
  }
 },
 "nbformat": 4,
 "nbformat_minor": 4
}
