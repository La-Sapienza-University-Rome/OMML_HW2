{
 "cells": [
  {
   "cell_type": "code",
   "execution_count": 76,
   "metadata": {},
   "outputs": [
    {
     "name": "stdout",
     "output_type": "stream",
     "text": [
      "The autoreload extension is already loaded. To reload it, use:\n",
      "  %reload_ext autoreload\n"
     ]
    }
   ],
   "source": [
    "%load_ext autoreload\n",
    "%autoreload 2"
   ]
  },
  {
   "cell_type": "code",
   "execution_count": 77,
   "metadata": {},
   "outputs": [],
   "source": [
    "import os\n",
    "import sys\n",
    "import matplotlib.pyplot as plt\n",
    "\n",
    "module_path = os.path.abspath(os.path.join('..\\..'))\n",
    "if module_path not in sys.path:\n",
    "    sys.path.insert(0, module_path)"
   ]
  },
  {
   "cell_type": "code",
   "execution_count": 228,
   "metadata": {},
   "outputs": [],
   "source": [
    "from funcs import SVM\n",
    "import pandas as pd\n",
    "from sklearn import preprocessing\n",
    "import numpy as np\n",
    "from sklearn.model_selection import train_test_split\n",
    "import itertools\n",
    "from sklearn.model_selection import KFold"
   ]
  },
  {
   "cell_type": "code",
   "execution_count": 229,
   "metadata": {},
   "outputs": [],
   "source": [
    "df = pd.read_csv('data/Letters_Q_O.csv')\n",
    "\n",
    "train_df, test_df = train_test_split(df, test_size=0.2, random_state=1939671)"
   ]
  },
  {
   "cell_type": "code",
   "execution_count": 230,
   "metadata": {},
   "outputs": [],
   "source": [
    "def process_df(df):\n",
    "    X = np.array(df.drop(['letter'], axis=1))\n",
    "    y_letter = np.array(df[['letter']])\n",
    "\n",
    "    scaler = preprocessing.StandardScaler().fit(X)\n",
    "    X = scaler.transform(X)\n",
    "\n",
    "    y = []\n",
    "    for i in y_letter:\n",
    "        if i[0] == 'Q':\n",
    "            y.append(-1)\n",
    "        else:\n",
    "            y.append(1)\n",
    "    y = np.array(y)\n",
    "    return X, y"
   ]
  },
  {
   "cell_type": "code",
   "execution_count": 80,
   "metadata": {},
   "outputs": [],
   "source": []
  },
  {
   "cell_type": "code",
   "execution_count": 81,
   "metadata": {},
   "outputs": [],
   "source": [
    "X_train = X[:int(len(X)*0.8)]\n",
    "X_test = X[int(len(X)*0.8):]\n",
    "y_train = y[:int(len(X)*0.8)]\n",
    "y_test = y[int(len(X)*0.8):]"
   ]
  },
  {
   "cell_type": "code",
   "execution_count": null,
   "metadata": {},
   "outputs": [
    {
     "name": "stdout",
     "output_type": "stream",
     "text": [
      "C:  5\n",
      "gamma:  1\n",
      "kernel:  polynomial\n",
      "Accuracy:  0.9653371945066036\n",
      "=======================\n",
      "\n",
      "C:  5\n",
      "gamma:  1\n",
      "kernel:  rbf\n",
      "Accuracy:  0.8810758632793647\n",
      "=======================\n",
      "\n",
      "C:  5\n",
      "gamma:  2\n",
      "kernel:  polynomial\n",
      "Accuracy:  0.9063884866833399\n",
      "=======================\n",
      "\n",
      "C:  5\n",
      "gamma:  2\n",
      "kernel:  rbf\n",
      "Accuracy:  0.8632705892676935\n",
      "=======================\n",
      "\n",
      "C:  5\n",
      "gamma:  3\n",
      "kernel:  polynomial\n",
      "Accuracy:  0.5243955947523146\n",
      "=======================\n",
      "\n",
      "C:  5\n",
      "gamma:  3\n",
      "kernel:  rbf\n",
      "Accuracy:  0.8614014303891887\n",
      "=======================\n",
      "\n",
      "C:  5\n",
      "gamma:  4\n",
      "kernel:  polynomial\n",
      "Accuracy:  0.5243955947523146\n",
      "=======================\n",
      "\n",
      "C:  5\n",
      "gamma:  4\n",
      "kernel:  rbf\n"
     ]
    }
   ],
   "source": [
    "grid_C = [5, 10, 15, 20, 25, 30, 40, 50]\n",
    "grid_gamma = [1, 2, 3, 4]\n",
    "grid_kernel = ['polynomial', 'rbf']\n",
    "\n",
    "iterables = [grid_C, grid_gamma, grid_kernel]\n",
    "min_loss = 1000\n",
    "k_fold = 5\n",
    "\n",
    "kf5 = KFold(n_splits=k_fold, shuffle=False)\n",
    "\n",
    "list_ = [['C', 'Gamma', 'Kernel', 'Validation Loss']]\n",
    "\n",
    "for t in itertools.product(*iterables):\n",
    "    \n",
    "    val_loss = 0\n",
    "    \n",
    "    C = t[0]\n",
    "    gamma = t[1]\n",
    "    kernel = t[2]\n",
    "    \n",
    "    print('C: ', C)\n",
    "    print('gamma: ', gamma)\n",
    "    print('kernel: ', kernel)\n",
    "    \n",
    "    for train_index, test_index in kf5.split(train_df):\n",
    "        \n",
    "        X_, y_ = process_df(train_df.iloc[train_index])\n",
    "        X_val, y_val = process_df(train_df.iloc[test_index])\n",
    "\n",
    "        svm = SVM(X_, y_, C=C, gamma=gamma, kernel=kernel)\n",
    "        svm.fit(tol=1e-5, fix_intercept=False)\n",
    "        \n",
    "        val_loss += svm.pred(X_val, y_val)\n",
    "        \n",
    "    val_loss = val_loss/k_fold\n",
    "    print('Accuracy: ', val_loss)\n",
    "    print('=======================')\n",
    "    print('')\n",
    "    \n",
    "    list_.append([C, gamma, kernel, val_loss])"
   ]
  },
  {
   "cell_type": "code",
   "execution_count": null,
   "metadata": {},
   "outputs": [],
   "source": [
    "import csv\n",
    "\n",
    "with open(\"res.csv\", \"wb\") as f:\n",
    "    writer = csv.writer(f)\n",
    "    writer.writerows(list_)"
   ]
  },
  {
   "cell_type": "code",
   "execution_count": null,
   "metadata": {},
   "outputs": [],
   "source": []
  },
  {
   "cell_type": "code",
   "execution_count": null,
   "metadata": {},
   "outputs": [],
   "source": []
  }
 ],
 "metadata": {
  "kernelspec": {
   "display_name": "data_science_general",
   "language": "python",
   "name": "data_science_general"
  },
  "language_info": {
   "codemirror_mode": {
    "name": "ipython",
    "version": 3
   },
   "file_extension": ".py",
   "mimetype": "text/x-python",
   "name": "python",
   "nbconvert_exporter": "python",
   "pygments_lexer": "ipython3",
   "version": "3.7.9"
  }
 },
 "nbformat": 4,
 "nbformat_minor": 4
}
