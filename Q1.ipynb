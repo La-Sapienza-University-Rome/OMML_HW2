{
 "cells": [
  {
   "cell_type": "code",
   "execution_count": 1,
   "metadata": {},
   "outputs": [],
   "source": [
    "%load_ext autoreload\n",
    "%autoreload 2"
   ]
  },
  {
   "cell_type": "code",
   "execution_count": 2,
   "metadata": {},
   "outputs": [],
   "source": [
    "import os\n",
    "import sys\n",
    "import matplotlib.pyplot as plt\n",
    "\n",
    "module_path = os.path.abspath(os.path.join('..\\..'))\n",
    "if module_path not in sys.path:\n",
    "    sys.path.insert(0, module_path)"
   ]
  },
  {
   "cell_type": "code",
   "execution_count": 3,
   "metadata": {},
   "outputs": [],
   "source": [
    "from funcs import SVM\n",
    "import pandas as pd\n",
    "from sklearn import preprocessing\n",
    "import numpy as np\n",
    "from sklearn.model_selection import train_test_split\n",
    "import itertools\n",
    "from sklearn.model_selection import KFold\n",
    "from sklearn.svm import SVC\n",
    "import time"
   ]
  },
  {
   "cell_type": "code",
   "execution_count": 4,
   "metadata": {},
   "outputs": [],
   "source": [
    "df = pd.read_csv('data/Letters_Q_O.csv')\n",
    "columns = list(df.columns[:-1])"
   ]
  },
  {
   "cell_type": "code",
   "execution_count": 5,
   "metadata": {},
   "outputs": [],
   "source": [
    "df[columns] = preprocessing.StandardScaler().fit_transform(df[columns])\n",
    "\n",
    "train_df, test_df = train_test_split(df, test_size=0.2, random_state=1939671)"
   ]
  },
  {
   "cell_type": "code",
   "execution_count": 6,
   "metadata": {},
   "outputs": [],
   "source": [
    "def process_df(df):\n",
    "    X = np.array(df.drop(['letter'], axis=1))\n",
    "    y_letter = np.array(df[['letter']])\n",
    "\n",
    "    y = []\n",
    "    for i in y_letter:\n",
    "        if i[0] == 'Q':\n",
    "            y.append(-1)\n",
    "        else:\n",
    "            y.append(1)\n",
    "    y = np.array(y)\n",
    "    return X, y"
   ]
  },
  {
   "cell_type": "code",
   "execution_count": null,
   "metadata": {},
   "outputs": [],
   "source": []
  },
  {
   "cell_type": "code",
   "execution_count": 7,
   "metadata": {
    "scrolled": true
   },
   "outputs": [
    {
     "name": "stdout",
     "output_type": "stream",
     "text": [
      "C:  1\n",
      "gamma:  1\n",
      "kernel:  polynomial\n",
      "Accuracy:  0.967219516475802\n",
      "Accuracy Sklearn:  0.9634855864156904\n",
      "=======================\n",
      "\n"
     ]
    }
   ],
   "source": [
    "grid_C = [1, 5, 10, 20, 30, 40, 50]\n",
    "grid_gamma = [1, 2, 3, 4, 5]\n",
    "grid_kernel = ['polynomial']\n",
    "\n",
    "iterables = [grid_C, grid_gamma, grid_kernel]\n",
    "min_loss = 1000\n",
    "k_fold = 5\n",
    "\n",
    "kf5 = KFold(n_splits=k_fold, shuffle=False)\n",
    "\n",
    "list_ = [['C', 'Gamma', 'Kernel', 'Validation Loss']]\n",
    "\n",
    "for t in itertools.product(*iterables):\n",
    "    \n",
    "    val_loss = 0\n",
    "    val_loss_sklearn = 0\n",
    "    \n",
    "    C = t[0]\n",
    "    gamma = t[1]\n",
    "    kernel = t[2]\n",
    "    \n",
    "    print('C: ', C)\n",
    "    print('gamma: ', gamma)\n",
    "    print('kernel: ', kernel)\n",
    "    \n",
    "    for train_index, test_index in kf5.split(train_df):\n",
    "        \n",
    "        X_, y_ = process_df(train_df.iloc[train_index])\n",
    "        X_val, y_val = process_df(train_df.iloc[test_index])\n",
    "\n",
    "        svm = SVM(X_, y_, C=C, gamma=gamma, kernel=kernel)\n",
    "        svm.fit(tol=1e-5, fix_intercept=False)\n",
    "        \n",
    "        val_loss += svm.eval(X_val, y_val)\n",
    "        \n",
    "        # sklearn implementation\n",
    "        clf = SVC(kernel = 'poly', degree=gamma, C=C)\n",
    "        clf.fit(X_, y_)\n",
    "        val_loss_sklearn += clf.score(X_val, y_val)\n",
    "        \n",
    "    val_loss = val_loss/k_fold\n",
    "    val_loss_sklearn = val_loss_sklearn/k_fold\n",
    "    print('Accuracy: ', val_loss)\n",
    "    print('Accuracy Sklearn: ', val_loss_sklearn)\n",
    "    print('=======================')\n",
    "    print('')\n",
    "    \n",
    "    break\n",
    "    \n",
    "    list_.append([C, gamma, kernel, val_loss])"
   ]
  },
  {
   "cell_type": "markdown",
   "metadata": {},
   "source": [
    "## Delete"
   ]
  },
  {
   "cell_type": "code",
   "execution_count": 11,
   "metadata": {},
   "outputs": [],
   "source": []
  },
  {
   "cell_type": "code",
   "execution_count": 12,
   "metadata": {},
   "outputs": [
    {
     "data": {
      "text/plain": [
       "array([-71.13834782])"
      ]
     },
     "execution_count": 12,
     "metadata": {},
     "output_type": "execute_result"
    }
   ],
   "source": [
    "fin_obj"
   ]
  },
  {
   "cell_type": "code",
   "execution_count": 13,
   "metadata": {},
   "outputs": [
    {
     "data": {
      "text/plain": [
       "array([0.])"
      ]
     },
     "execution_count": 13,
     "metadata": {},
     "output_type": "execute_result"
    }
   ],
   "source": [
    "init_obj"
   ]
  },
  {
   "cell_type": "markdown",
   "metadata": {},
   "source": [
    "## Delete"
   ]
  },
  {
   "cell_type": "code",
   "execution_count": 31,
   "metadata": {},
   "outputs": [
    {
     "name": "stdout",
     "output_type": "stream",
     "text": [
      "C:  5\n",
      "gamma:  0.01\n",
      "kernel:  rbf\n",
      "Accuracy:  0.977526216488965\n",
      "=======================\n",
      "\n",
      "inside\n",
      "C:  5\n",
      "gamma:  0.05\n",
      "kernel:  rbf\n",
      "Accuracy:  0.9859505945329297\n",
      "=======================\n",
      "\n",
      "inside\n",
      "C:  5\n",
      "gamma:  0.1\n",
      "kernel:  rbf\n",
      "Accuracy:  0.98782852880523\n",
      "=======================\n",
      "\n",
      "inside\n",
      "C:  5\n",
      "gamma:  0.13\n",
      "kernel:  rbf\n",
      "Accuracy:  0.9887674959413804\n",
      "=======================\n",
      "\n",
      "inside\n",
      "C:  5\n",
      "gamma:  0.15\n",
      "kernel:  rbf\n",
      "Accuracy:  0.9915756219560354\n",
      "=======================\n",
      "\n",
      "inside\n",
      "C:  5\n",
      "gamma:  0.2\n",
      "kernel:  rbf\n",
      "Accuracy:  0.9868983370628758\n",
      "=======================\n",
      "\n"
     ]
    }
   ],
   "source": [
    "grid_C = [5]\n",
    "grid_gamma = [0.01, 0.05, 0.1, 0.13, 0.15, 0.2]\n",
    "grid_kernel = ['rbf']\n",
    "\n",
    "iterables = [grid_C, grid_gamma, grid_kernel]\n",
    "min_acc = 0\n",
    "k_fold = 5\n",
    "\n",
    "kf5 = KFold(n_splits=k_fold, shuffle=False)\n",
    "\n",
    "for t in itertools.product(*iterables):\n",
    "    \n",
    "    val_loss = 0\n",
    "    val_loss_sklearn = 0\n",
    "    \n",
    "    C = t[0]\n",
    "    gamma = t[1]\n",
    "    kernel = t[2]\n",
    "    \n",
    "    print('C: ', C)\n",
    "    print('gamma: ', gamma)\n",
    "    print('kernel: ', kernel)\n",
    "    \n",
    "    for train_index, test_index in kf5.split(train_df):\n",
    "        \n",
    "        X_, y_ = process_df(train_df.iloc[train_index])\n",
    "        X_val, y_val = process_df(train_df.iloc[test_index])\n",
    "        \n",
    "        start = time.time()\n",
    "        \n",
    "        svm = SVM(X_, y_, C=C, gamma=gamma, kernel=kernel)\n",
    "        svm.fit(tol=1e-5, fix_intercept=False)\n",
    "        \n",
    "        stop = time.time()\n",
    "        \n",
    "        val_loss += svm.eval(X_val, y_val)\n",
    "        \n",
    "    val_loss = val_loss/k_fold\n",
    "    print('Accuracy: ', val_loss)\n",
    "    print('=======================')\n",
    "    print('')\n",
    "    if val_loss > min_acc:\n",
    "        print('inside')\n",
    "        X, y = process_df(train_df)\n",
    "        X_test, y_test = process_df(test_df)\n",
    "        val_acc = val_loss\n",
    "        train_acc = svm.eval(X, y)\n",
    "        test_acc = svm.eval(X_test, y_test)\n",
    "        best_time = round((stop-start), 2)\n",
    "        num_it = svm.fit_sol['iterations']\n",
    "        min_acc = val_loss\n",
    "        KKT = svm.fit_sol['status']\n",
    "        alpha_init = np.zeros(len(svm.alpha))\n",
    "        fin_obj = 0.5*np.dot(np.dot(svm.alpha.T, svm.P), \n",
    "                             svm.alpha) + np.dot(svm.q.T, svm.alpha)\n",
    "        init_obj = 0.5*np.dot(np.dot(alpha_init.T, svm.P), \n",
    "                              alpha_init) + np.dot(svm.q.T, alpha_init)\n",
    "        \n",
    "        "
   ]
  },
  {
   "cell_type": "code",
   "execution_count": null,
   "metadata": {},
   "outputs": [],
   "source": []
  },
  {
   "cell_type": "code",
   "execution_count": null,
   "metadata": {},
   "outputs": [],
   "source": []
  },
  {
   "cell_type": "code",
   "execution_count": null,
   "metadata": {},
   "outputs": [],
   "source": []
  },
  {
   "cell_type": "markdown",
   "metadata": {},
   "source": [
    "## MultiClass SVM"
   ]
  },
  {
   "cell_type": "code",
   "execution_count": 44,
   "metadata": {},
   "outputs": [],
   "source": [
    "def convert_labels(list_, dict_):\n",
    "    \"\"\"\n",
    "    List contains the predictions e.g. [-1, 1, 1, -1, ...]\n",
    "    Dictionary contains the relation, e.g. {'-1': 'Q', '1': 'D'}\n",
    "    \"\"\"\n",
    "    \n",
    "    l = [dict_[i] for i in list_]\n",
    "    \n",
    "    return l"
   ]
  },
  {
   "cell_type": "code",
   "execution_count": 45,
   "metadata": {},
   "outputs": [],
   "source": [
    "def voting(list_):\n",
    "    \"\"\"\n",
    "    list_ is a list of lists\n",
    "    \"\"\"\n",
    "    best = []\n",
    "    l = list(map(list, zip(*list_)))\n",
    "    for i in l:\n",
    "        t = {'Q':0, 'O':0, 'D':0}\n",
    "        for j in i:\n",
    "            t[j] += 1\n",
    "        best.append(max(t, key=t.get))\n",
    "    return best"
   ]
  },
  {
   "cell_type": "code",
   "execution_count": 46,
   "metadata": {},
   "outputs": [],
   "source": [
    "import copy\n",
    "\n",
    "def process_df(df, letters=['Q', 'O'], test=False):\n",
    "    df = df.copy()\n",
    "    if test:\n",
    "        X = np.array(df.drop(['letter'], axis=1))\n",
    "        y_letter = np.array(df[['letter']])\n",
    "        return X, np.array(y_letter)\n",
    "    else:\n",
    "        df = df[df.letter.isin(letters)]\n",
    "        X = np.array(df.drop(['letter'], axis=1))\n",
    "        y_letter = np.array(df[['letter']])\n",
    "\n",
    "        y = []\n",
    "        for i in y_letter:\n",
    "            if i[0] == letters[0]:\n",
    "                y.append(-1)\n",
    "            else:\n",
    "                y.append(1)\n",
    "        y = np.array(y)\n",
    "        return X, y"
   ]
  },
  {
   "cell_type": "code",
   "execution_count": 47,
   "metadata": {},
   "outputs": [],
   "source": [
    "df_Q_O = pd.read_csv('data/Letters_Q_O.csv')\n",
    "df_D = pd.read_csv('data/Letter_D.csv')\n",
    "df = pd.concat([df_D, df_Q_O])\n",
    "\n",
    "columns = list(df.columns[:-1])\n",
    "\n",
    "df[columns] = preprocessing.StandardScaler().fit_transform(df[columns])\n",
    "\n",
    "train_df, test_df = train_test_split(df, test_size=0.2, random_state=1939671)"
   ]
  },
  {
   "cell_type": "code",
   "execution_count": 48,
   "metadata": {},
   "outputs": [],
   "source": [
    "C = 5\n",
    "gamma = 0.15\n",
    "kernel = 'rbf'\n",
    "\n",
    "X_Q_O, y_Q_O = process_df(train_df, ['Q', 'O'])\n",
    "X_Q_D, y_Q_D = process_df(train_df, ['Q', 'D'])\n",
    "X_D_O, y_D_O = process_df(train_df, ['D', 'O'])\n",
    "\n",
    "X_test, y_test = process_df(test_df, test=True)\n",
    "X_train, y_train = process_df(train_df, test=True)"
   ]
  },
  {
   "cell_type": "code",
   "execution_count": 49,
   "metadata": {},
   "outputs": [],
   "source": [
    "SVM_Q_O = SVM(X_Q_O, y_Q_O, C=C, gamma=gamma, kernel=kernel)\n",
    "SVM_Q_O.fit(tol=1e-5, fix_intercept=False)\n",
    "\n",
    "SVM_Q_D = SVM(X_Q_D, y_Q_D, C=C, gamma=gamma, kernel=kernel)\n",
    "SVM_Q_D.fit(tol=1e-5, fix_intercept=False)\n",
    "\n",
    "SVM_D_O = SVM(X_D_O, y_D_O, C=C, gamma=gamma, kernel=kernel)\n",
    "SVM_D_O.fit(tol=1e-5, fix_intercept=False)"
   ]
  },
  {
   "cell_type": "code",
   "execution_count": 43,
   "metadata": {
    "scrolled": true
   },
   "outputs": [
    {
     "name": "stdout",
     "output_type": "stream",
     "text": [
      "Accuracy:  0.9901960784313726\n"
     ]
    }
   ],
   "source": [
    "l1 = convert_labels(SVM_Q_O.pred(X_test), {-1: 'Q', 1: 'O'})\n",
    "l2 = convert_labels(SVM_Q_D.pred(X_test), {-1: 'Q', 1: 'D'})\n",
    "l3 = convert_labels(SVM_D_O.pred(X_test), {-1: 'D', 1: 'O'})\n",
    "\n",
    "l = [l1, l2, l3]\n",
    "l = voting(l)\n",
    "\n",
    "y_test = [item for sublist in y_test for item in sublist]\n",
    "\n",
    "print('Accuracy: ', sum(np.array(y_test) == np.array(l))/len(y_test))"
   ]
  },
  {
   "cell_type": "code",
   "execution_count": 50,
   "metadata": {},
   "outputs": [
    {
     "name": "stdout",
     "output_type": "stream",
     "text": [
      "Accuracy:  1.0\n"
     ]
    }
   ],
   "source": [
    "l1 = convert_labels(SVM_Q_O.pred(X_train), {-1: 'Q', 1: 'O'})\n",
    "l2 = convert_labels(SVM_Q_D.pred(X_train), {-1: 'Q', 1: 'D'})\n",
    "l3 = convert_labels(SVM_D_O.pred(X_train), {-1: 'D', 1: 'O'})\n",
    "\n",
    "l = [l1, l2, l3]\n",
    "l = voting(l)\n",
    "\n",
    "y_train = [item for sublist in y_train for item in sublist]\n",
    "\n",
    "print('Accuracy: ', sum(np.array(y_train) == np.array(l))/len(y_train))"
   ]
  },
  {
   "cell_type": "code",
   "execution_count": null,
   "metadata": {},
   "outputs": [],
   "source": []
  },
  {
   "cell_type": "markdown",
   "metadata": {},
   "source": [
    "Test class implementation of the multiclass SVM"
   ]
  },
  {
   "cell_type": "code",
   "execution_count": 39,
   "metadata": {},
   "outputs": [],
   "source": [
    "from funcs import MultiSVM, process_df, split_X_y"
   ]
  },
  {
   "cell_type": "code",
   "execution_count": 40,
   "metadata": {},
   "outputs": [],
   "source": [
    "df_Q_O = pd.read_csv('data/Letters_Q_O.csv')\n",
    "df_D = pd.read_csv('data/Letter_D.csv')\n",
    "df = pd.concat([df_D, df_Q_O])\n",
    "\n",
    "columns = list(df.columns[:-1])\n",
    "\n",
    "df[columns] = preprocessing.StandardScaler().fit_transform(df[columns])\n",
    "\n",
    "train_df, test_df = train_test_split(df, test_size=0.2, random_state=1939671)"
   ]
  },
  {
   "cell_type": "code",
   "execution_count": 41,
   "metadata": {},
   "outputs": [],
   "source": [
    "C = 5\n",
    "gamma = 0.1\n",
    "kernel = 'rbf'"
   ]
  },
  {
   "cell_type": "code",
   "execution_count": 42,
   "metadata": {},
   "outputs": [],
   "source": [
    "multi_svm = MultiSVM(train_df, C, gamma, kernel)"
   ]
  },
  {
   "cell_type": "code",
   "execution_count": 43,
   "metadata": {},
   "outputs": [],
   "source": [
    "multi_svm.fit()"
   ]
  },
  {
   "cell_type": "code",
   "execution_count": 44,
   "metadata": {},
   "outputs": [
    {
     "data": {
      "text/plain": [
       "{('O', 'Q'): <funcs.SVM at 0x2cbbc4c7e08>,\n",
       " ('O', 'D'): <funcs.SVM at 0x2cbbdadca08>,\n",
       " ('Q', 'D'): <funcs.SVM at 0x2cbbc4b5fc8>}"
      ]
     },
     "execution_count": 44,
     "metadata": {},
     "output_type": "execute_result"
    }
   ],
   "source": [
    "multi_svm._classifiers"
   ]
  },
  {
   "cell_type": "code",
   "execution_count": 35,
   "metadata": {},
   "outputs": [],
   "source": [
    "X_test, y_test = split_X_y(test_df)"
   ]
  },
  {
   "cell_type": "code",
   "execution_count": 36,
   "metadata": {},
   "outputs": [
    {
     "data": {
      "text/plain": [
       "0.9901960784313726"
      ]
     },
     "execution_count": 36,
     "metadata": {},
     "output_type": "execute_result"
    }
   ],
   "source": [
    "multi_svm.eval(X_test, y_test)"
   ]
  },
  {
   "cell_type": "code",
   "execution_count": null,
   "metadata": {},
   "outputs": [],
   "source": []
  },
  {
   "cell_type": "code",
   "execution_count": null,
   "metadata": {},
   "outputs": [],
   "source": []
  },
  {
   "cell_type": "markdown",
   "metadata": {},
   "source": [
    "## Over/Underfitting"
   ]
  },
  {
   "cell_type": "code",
   "execution_count": 13,
   "metadata": {},
   "outputs": [
    {
     "name": "stdout",
     "output_type": "stream",
     "text": [
      "C:  5\n",
      "gamma:  0.001\n",
      "kernel:  rbf\n",
      "C:  5\n",
      "gamma:  0.01098989898989899\n",
      "kernel:  rbf\n",
      "C:  5\n",
      "gamma:  0.02097979797979798\n",
      "kernel:  rbf\n",
      "C:  5\n",
      "gamma:  0.03096969696969697\n",
      "kernel:  rbf\n",
      "C:  5\n",
      "gamma:  0.04095959595959596\n",
      "kernel:  rbf\n",
      "C:  5\n",
      "gamma:  0.05094949494949495\n",
      "kernel:  rbf\n",
      "C:  5\n",
      "gamma:  0.06093939393939394\n",
      "kernel:  rbf\n",
      "C:  5\n",
      "gamma:  0.07092929292929293\n",
      "kernel:  rbf\n",
      "C:  5\n",
      "gamma:  0.08091919191919192\n",
      "kernel:  rbf\n",
      "C:  5\n",
      "gamma:  0.09090909090909091\n",
      "kernel:  rbf\n",
      "C:  5\n",
      "gamma:  0.1008989898989899\n",
      "kernel:  rbf\n",
      "C:  5\n",
      "gamma:  0.11088888888888888\n",
      "kernel:  rbf\n",
      "C:  5\n",
      "gamma:  0.12087878787878788\n",
      "kernel:  rbf\n",
      "C:  5\n",
      "gamma:  0.13086868686868686\n",
      "kernel:  rbf\n",
      "C:  5\n",
      "gamma:  0.14085858585858585\n",
      "kernel:  rbf\n",
      "C:  5\n",
      "gamma:  0.15084848484848484\n",
      "kernel:  rbf\n",
      "C:  5\n",
      "gamma:  0.16083838383838384\n",
      "kernel:  rbf\n",
      "C:  5\n",
      "gamma:  0.17082828282828283\n",
      "kernel:  rbf\n",
      "C:  5\n",
      "gamma:  0.18081818181818182\n",
      "kernel:  rbf\n",
      "C:  5\n",
      "gamma:  0.19080808080808082\n",
      "kernel:  rbf\n",
      "C:  5\n",
      "gamma:  0.2007979797979798\n",
      "kernel:  rbf\n",
      "C:  5\n",
      "gamma:  0.21078787878787877\n",
      "kernel:  rbf\n",
      "C:  5\n",
      "gamma:  0.22077777777777777\n",
      "kernel:  rbf\n",
      "C:  5\n",
      "gamma:  0.23076767676767676\n",
      "kernel:  rbf\n",
      "C:  5\n",
      "gamma:  0.24075757575757575\n",
      "kernel:  rbf\n",
      "C:  5\n",
      "gamma:  0.2507474747474747\n",
      "kernel:  rbf\n",
      "C:  5\n",
      "gamma:  0.2607373737373737\n",
      "kernel:  rbf\n",
      "C:  5\n",
      "gamma:  0.2707272727272727\n",
      "kernel:  rbf\n",
      "C:  5\n",
      "gamma:  0.2807171717171717\n",
      "kernel:  rbf\n",
      "C:  5\n",
      "gamma:  0.2907070707070707\n",
      "kernel:  rbf\n",
      "C:  5\n",
      "gamma:  0.3006969696969697\n",
      "kernel:  rbf\n",
      "C:  5\n",
      "gamma:  0.3106868686868687\n",
      "kernel:  rbf\n",
      "C:  5\n",
      "gamma:  0.32067676767676767\n",
      "kernel:  rbf\n",
      "C:  5\n",
      "gamma:  0.33066666666666666\n",
      "kernel:  rbf\n",
      "C:  5\n",
      "gamma:  0.34065656565656566\n",
      "kernel:  rbf\n",
      "C:  5\n",
      "gamma:  0.35064646464646465\n",
      "kernel:  rbf\n",
      "C:  5\n",
      "gamma:  0.36063636363636364\n",
      "kernel:  rbf\n",
      "C:  5\n",
      "gamma:  0.37062626262626264\n",
      "kernel:  rbf\n",
      "C:  5\n",
      "gamma:  0.38061616161616163\n",
      "kernel:  rbf\n",
      "C:  5\n",
      "gamma:  0.3906060606060606\n",
      "kernel:  rbf\n",
      "C:  5\n",
      "gamma:  0.4005959595959596\n",
      "kernel:  rbf\n",
      "C:  5\n",
      "gamma:  0.41058585858585855\n",
      "kernel:  rbf\n",
      "C:  5\n",
      "gamma:  0.42057575757575755\n",
      "kernel:  rbf\n",
      "C:  5\n",
      "gamma:  0.43056565656565654\n",
      "kernel:  rbf\n",
      "C:  5\n",
      "gamma:  0.44055555555555553\n",
      "kernel:  rbf\n",
      "C:  5\n",
      "gamma:  0.4505454545454545\n",
      "kernel:  rbf\n",
      "C:  5\n",
      "gamma:  0.4605353535353535\n",
      "kernel:  rbf\n",
      "C:  5\n",
      "gamma:  0.4705252525252525\n",
      "kernel:  rbf\n",
      "C:  5\n",
      "gamma:  0.4805151515151515\n",
      "kernel:  rbf\n",
      "C:  5\n",
      "gamma:  0.4905050505050505\n",
      "kernel:  rbf\n",
      "C:  5\n",
      "gamma:  0.5004949494949494\n",
      "kernel:  rbf\n",
      "C:  5\n",
      "gamma:  0.5104848484848484\n",
      "kernel:  rbf\n",
      "C:  5\n",
      "gamma:  0.5204747474747474\n",
      "kernel:  rbf\n",
      "C:  5\n",
      "gamma:  0.5304646464646464\n",
      "kernel:  rbf\n",
      "C:  5\n",
      "gamma:  0.5404545454545454\n",
      "kernel:  rbf\n",
      "C:  5\n",
      "gamma:  0.5504444444444444\n",
      "kernel:  rbf\n",
      "C:  5\n",
      "gamma:  0.5604343434343434\n",
      "kernel:  rbf\n",
      "C:  5\n",
      "gamma:  0.5704242424242424\n",
      "kernel:  rbf\n",
      "C:  5\n",
      "gamma:  0.5804141414141414\n",
      "kernel:  rbf\n",
      "C:  5\n",
      "gamma:  0.5904040404040404\n",
      "kernel:  rbf\n",
      "C:  5\n",
      "gamma:  0.6003939393939394\n",
      "kernel:  rbf\n",
      "C:  5\n",
      "gamma:  0.6103838383838384\n",
      "kernel:  rbf\n",
      "C:  5\n",
      "gamma:  0.6203737373737374\n",
      "kernel:  rbf\n",
      "C:  5\n",
      "gamma:  0.6303636363636363\n",
      "kernel:  rbf\n",
      "C:  5\n",
      "gamma:  0.6403535353535353\n",
      "kernel:  rbf\n",
      "C:  5\n",
      "gamma:  0.6503434343434343\n",
      "kernel:  rbf\n",
      "C:  5\n",
      "gamma:  0.6603333333333333\n",
      "kernel:  rbf\n",
      "C:  5\n",
      "gamma:  0.6703232323232323\n",
      "kernel:  rbf\n",
      "C:  5\n",
      "gamma:  0.6803131313131313\n",
      "kernel:  rbf\n",
      "C:  5\n",
      "gamma:  0.6903030303030303\n",
      "kernel:  rbf\n",
      "C:  5\n",
      "gamma:  0.7002929292929293\n",
      "kernel:  rbf\n",
      "C:  5\n",
      "gamma:  0.7102828282828283\n",
      "kernel:  rbf\n",
      "C:  5\n",
      "gamma:  0.7202727272727273\n",
      "kernel:  rbf\n",
      "C:  5\n",
      "gamma:  0.7302626262626263\n",
      "kernel:  rbf\n",
      "C:  5\n",
      "gamma:  0.7402525252525253\n",
      "kernel:  rbf\n",
      "C:  5\n",
      "gamma:  0.7502424242424243\n",
      "kernel:  rbf\n",
      "C:  5\n",
      "gamma:  0.7602323232323233\n",
      "kernel:  rbf\n",
      "C:  5\n",
      "gamma:  0.7702222222222223\n",
      "kernel:  rbf\n",
      "C:  5\n",
      "gamma:  0.7802121212121212\n",
      "kernel:  rbf\n",
      "C:  5\n",
      "gamma:  0.7902020202020202\n",
      "kernel:  rbf\n",
      "C:  5\n",
      "gamma:  0.8001919191919192\n",
      "kernel:  rbf\n",
      "C:  5\n",
      "gamma:  0.8101818181818181\n",
      "kernel:  rbf\n",
      "C:  5\n",
      "gamma:  0.8201717171717171\n",
      "kernel:  rbf\n",
      "C:  5\n",
      "gamma:  0.8301616161616161\n",
      "kernel:  rbf\n",
      "C:  5\n",
      "gamma:  0.8401515151515151\n",
      "kernel:  rbf\n",
      "C:  5\n",
      "gamma:  0.8501414141414141\n",
      "kernel:  rbf\n",
      "C:  5\n",
      "gamma:  0.8601313131313131\n",
      "kernel:  rbf\n",
      "C:  5\n",
      "gamma:  0.8701212121212121\n",
      "kernel:  rbf\n",
      "C:  5\n",
      "gamma:  0.8801111111111111\n",
      "kernel:  rbf\n",
      "C:  5\n",
      "gamma:  0.8901010101010101\n",
      "kernel:  rbf\n",
      "C:  5\n",
      "gamma:  0.900090909090909\n",
      "kernel:  rbf\n",
      "C:  5\n",
      "gamma:  0.910080808080808\n",
      "kernel:  rbf\n",
      "C:  5\n",
      "gamma:  0.920070707070707\n",
      "kernel:  rbf\n",
      "C:  5\n",
      "gamma:  0.930060606060606\n",
      "kernel:  rbf\n",
      "C:  5\n",
      "gamma:  0.940050505050505\n",
      "kernel:  rbf\n",
      "C:  5\n",
      "gamma:  0.950040404040404\n",
      "kernel:  rbf\n",
      "C:  5\n",
      "gamma:  0.960030303030303\n",
      "kernel:  rbf\n",
      "C:  5\n",
      "gamma:  0.970020202020202\n",
      "kernel:  rbf\n",
      "C:  5\n",
      "gamma:  0.980010101010101\n",
      "kernel:  rbf\n",
      "C:  5\n",
      "gamma:  0.99\n",
      "kernel:  rbf\n"
     ]
    }
   ],
   "source": [
    "grid_C = [5]\n",
    "grid_gamma = np.linspace(0.001, 0.99, 100)\n",
    "grid_kernel = ['rbf']\n",
    "\n",
    "iterables = [grid_C, grid_gamma, grid_kernel]\n",
    "min_loss = 1000\n",
    "\n",
    "list_val = []\n",
    "list_train = []\n",
    "\n",
    "for t in itertools.product(*iterables):\n",
    "       \n",
    "    C = t[0]\n",
    "    gamma = t[1]\n",
    "    kernel = t[2]\n",
    "    \n",
    "    print('C: ', C)\n",
    "    print('gamma: ', gamma)\n",
    "    print('kernel: ', kernel)\n",
    "    \n",
    "    X_, y_ = process_df(train_df)\n",
    "    X_val, y_val = process_df(test_df)\n",
    "\n",
    "    svm = SVM(X_, y_, C=C, gamma=gamma, kernel=kernel)\n",
    "    svm.fit(tol=1e-5, fix_intercept=False)\n",
    "       \n",
    "    train_loss = svm.eval(X_, y_)\n",
    "    val_loss = svm.eval(X_val, y_val)\n",
    "    \n",
    "    list_val.append(val_loss)\n",
    "    list_train.append(train_loss)"
   ]
  },
  {
   "cell_type": "code",
   "execution_count": 14,
   "metadata": {},
   "outputs": [
    {
     "data": {
      "image/png": "[encoded data removed]",
      "text/plain": [
       "<Figure size 864x576 with 1 Axes>"
      ]
     },
     "metadata": {
      "needs_background": "light"
     },
     "output_type": "display_data"
    }
   ],
   "source": [
    "plt.figure(figsize=(12, 8))\n",
    "plt.plot(grid_gamma, list_train)\n",
    "plt.plot(grid_gamma, list_val)\n",
    "plt.title('Validation vs Training Loss \\n RBF Kernel with C=5')\n",
    "plt.ylabel('Accuracy')\n",
    "plt.xlabel('Gamma')\n",
    "plt.legend(['train accuracy', 'validation accuracy'], loc='lower left')\n",
    "plt.show()"
   ]
  },
  {
   "cell_type": "code",
   "execution_count": 8,
   "metadata": {},
   "outputs": [
    {
     "name": "stdout",
     "output_type": "stream",
     "text": [
      "C:  0.0\n",
      "gamma:  0.1\n",
      "kernel:  rbf\n"
     ]
    },
    {
     "name": "stderr",
     "output_type": "stream",
     "text": [
      "c:\\Users\\juanm\\Documents\\Master\\Data Science\\3_Semester\\Optimization_Methods\\Project\\HW2\\funcs.py:154: RuntimeWarning: invalid value encountered in double_scalars\n",
      "  self.bias /= np.sum(self.sv_idx)\n"
     ]
    },
    {
     "name": "stdout",
     "output_type": "stream",
     "text": [
      "C:  0.10101010101010101\n",
      "gamma:  0.1\n",
      "kernel:  rbf\n",
      "C:  0.20202020202020202\n",
      "gamma:  0.1\n",
      "kernel:  rbf\n",
      "C:  0.30303030303030304\n",
      "gamma:  0.1\n",
      "kernel:  rbf\n",
      "C:  0.40404040404040403\n",
      "gamma:  0.1\n",
      "kernel:  rbf\n",
      "C:  0.5050505050505051\n",
      "gamma:  0.1\n",
      "kernel:  rbf\n",
      "C:  0.6060606060606061\n",
      "gamma:  0.1\n",
      "kernel:  rbf\n",
      "C:  0.7070707070707071\n",
      "gamma:  0.1\n",
      "kernel:  rbf\n",
      "C:  0.8080808080808081\n",
      "gamma:  0.1\n",
      "kernel:  rbf\n",
      "C:  0.9090909090909091\n",
      "gamma:  0.1\n",
      "kernel:  rbf\n",
      "C:  1.0101010101010102\n",
      "gamma:  0.1\n",
      "kernel:  rbf\n",
      "C:  1.1111111111111112\n",
      "gamma:  0.1\n",
      "kernel:  rbf\n",
      "C:  1.2121212121212122\n",
      "gamma:  0.1\n",
      "kernel:  rbf\n",
      "C:  1.3131313131313131\n",
      "gamma:  0.1\n",
      "kernel:  rbf\n",
      "C:  1.4141414141414141\n",
      "gamma:  0.1\n",
      "kernel:  rbf\n",
      "C:  1.5151515151515151\n",
      "gamma:  0.1\n",
      "kernel:  rbf\n",
      "C:  1.6161616161616161\n",
      "gamma:  0.1\n",
      "kernel:  rbf\n",
      "C:  1.7171717171717171\n",
      "gamma:  0.1\n",
      "kernel:  rbf\n",
      "C:  1.8181818181818181\n",
      "gamma:  0.1\n",
      "kernel:  rbf\n",
      "C:  1.9191919191919191\n",
      "gamma:  0.1\n",
      "kernel:  rbf\n",
      "C:  2.0202020202020203\n",
      "gamma:  0.1\n",
      "kernel:  rbf\n",
      "C:  2.121212121212121\n",
      "gamma:  0.1\n",
      "kernel:  rbf\n",
      "C:  2.2222222222222223\n",
      "gamma:  0.1\n",
      "kernel:  rbf\n",
      "C:  2.323232323232323\n",
      "gamma:  0.1\n",
      "kernel:  rbf\n",
      "C:  2.4242424242424243\n",
      "gamma:  0.1\n",
      "kernel:  rbf\n",
      "C:  2.525252525252525\n",
      "gamma:  0.1\n",
      "kernel:  rbf\n",
      "C:  2.6262626262626263\n",
      "gamma:  0.1\n",
      "kernel:  rbf\n",
      "C:  2.727272727272727\n",
      "gamma:  0.1\n",
      "kernel:  rbf\n",
      "C:  2.8282828282828283\n",
      "gamma:  0.1\n",
      "kernel:  rbf\n",
      "C:  2.929292929292929\n",
      "gamma:  0.1\n",
      "kernel:  rbf\n",
      "C:  3.0303030303030303\n",
      "gamma:  0.1\n",
      "kernel:  rbf\n",
      "C:  3.131313131313131\n",
      "gamma:  0.1\n",
      "kernel:  rbf\n",
      "C:  3.2323232323232323\n",
      "gamma:  0.1\n",
      "kernel:  rbf\n",
      "C:  3.3333333333333335\n",
      "gamma:  0.1\n",
      "kernel:  rbf\n",
      "C:  3.4343434343434343\n",
      "gamma:  0.1\n",
      "kernel:  rbf\n",
      "C:  3.5353535353535355\n",
      "gamma:  0.1\n",
      "kernel:  rbf\n",
      "C:  3.6363636363636362\n",
      "gamma:  0.1\n",
      "kernel:  rbf\n",
      "C:  3.7373737373737375\n",
      "gamma:  0.1\n",
      "kernel:  rbf\n",
      "C:  3.8383838383838382\n",
      "gamma:  0.1\n",
      "kernel:  rbf\n",
      "C:  3.9393939393939394\n",
      "gamma:  0.1\n",
      "kernel:  rbf\n",
      "C:  4.040404040404041\n",
      "gamma:  0.1\n",
      "kernel:  rbf\n",
      "C:  4.141414141414141\n",
      "gamma:  0.1\n",
      "kernel:  rbf\n",
      "C:  4.242424242424242\n",
      "gamma:  0.1\n",
      "kernel:  rbf\n",
      "C:  4.343434343434343\n",
      "gamma:  0.1\n",
      "kernel:  rbf\n",
      "C:  4.444444444444445\n",
      "gamma:  0.1\n",
      "kernel:  rbf\n",
      "C:  4.545454545454545\n",
      "gamma:  0.1\n",
      "kernel:  rbf\n",
      "C:  4.646464646464646\n",
      "gamma:  0.1\n",
      "kernel:  rbf\n",
      "C:  4.747474747474747\n",
      "gamma:  0.1\n",
      "kernel:  rbf\n",
      "C:  4.848484848484849\n",
      "gamma:  0.1\n",
      "kernel:  rbf\n",
      "C:  4.94949494949495\n",
      "gamma:  0.1\n",
      "kernel:  rbf\n",
      "C:  5.05050505050505\n",
      "gamma:  0.1\n",
      "kernel:  rbf\n",
      "C:  5.151515151515151\n",
      "gamma:  0.1\n",
      "kernel:  rbf\n",
      "C:  5.252525252525253\n",
      "gamma:  0.1\n",
      "kernel:  rbf\n",
      "C:  5.353535353535354\n",
      "gamma:  0.1\n",
      "kernel:  rbf\n",
      "C:  5.454545454545454\n",
      "gamma:  0.1\n",
      "kernel:  rbf\n",
      "C:  5.555555555555555\n",
      "gamma:  0.1\n",
      "kernel:  rbf\n",
      "C:  5.656565656565657\n",
      "gamma:  0.1\n",
      "kernel:  rbf\n",
      "C:  5.757575757575758\n",
      "gamma:  0.1\n",
      "kernel:  rbf\n",
      "C:  5.858585858585858\n",
      "gamma:  0.1\n",
      "kernel:  rbf\n",
      "C:  5.959595959595959\n",
      "gamma:  0.1\n",
      "kernel:  rbf\n",
      "C:  6.0606060606060606\n",
      "gamma:  0.1\n",
      "kernel:  rbf\n",
      "C:  6.161616161616162\n",
      "gamma:  0.1\n",
      "kernel:  rbf\n",
      "C:  6.262626262626262\n",
      "gamma:  0.1\n",
      "kernel:  rbf\n",
      "C:  6.363636363636363\n",
      "gamma:  0.1\n",
      "kernel:  rbf\n",
      "C:  6.4646464646464645\n",
      "gamma:  0.1\n",
      "kernel:  rbf\n",
      "C:  6.565656565656566\n",
      "gamma:  0.1\n",
      "kernel:  rbf\n",
      "C:  6.666666666666667\n",
      "gamma:  0.1\n",
      "kernel:  rbf\n",
      "C:  6.767676767676767\n",
      "gamma:  0.1\n",
      "kernel:  rbf\n",
      "C:  6.8686868686868685\n",
      "gamma:  0.1\n",
      "kernel:  rbf\n",
      "C:  6.96969696969697\n",
      "gamma:  0.1\n",
      "kernel:  rbf\n",
      "C:  7.070707070707071\n",
      "gamma:  0.1\n",
      "kernel:  rbf\n",
      "C:  7.171717171717171\n",
      "gamma:  0.1\n",
      "kernel:  rbf\n",
      "C:  7.2727272727272725\n",
      "gamma:  0.1\n",
      "kernel:  rbf\n",
      "C:  7.373737373737374\n",
      "gamma:  0.1\n",
      "kernel:  rbf\n",
      "C:  7.474747474747475\n",
      "gamma:  0.1\n",
      "kernel:  rbf\n",
      "C:  7.575757575757575\n",
      "gamma:  0.1\n",
      "kernel:  rbf\n",
      "C:  7.6767676767676765\n",
      "gamma:  0.1\n",
      "kernel:  rbf\n",
      "C:  7.777777777777778\n",
      "gamma:  0.1\n",
      "kernel:  rbf\n",
      "C:  7.878787878787879\n",
      "gamma:  0.1\n",
      "kernel:  rbf\n",
      "C:  7.979797979797979\n",
      "gamma:  0.1\n",
      "kernel:  rbf\n",
      "C:  8.080808080808081\n",
      "gamma:  0.1\n",
      "kernel:  rbf\n",
      "C:  8.181818181818182\n",
      "gamma:  0.1\n",
      "kernel:  rbf\n",
      "C:  8.282828282828282\n",
      "gamma:  0.1\n",
      "kernel:  rbf\n",
      "C:  8.383838383838384\n",
      "gamma:  0.1\n",
      "kernel:  rbf\n",
      "C:  8.484848484848484\n",
      "gamma:  0.1\n",
      "kernel:  rbf\n",
      "C:  8.585858585858587\n",
      "gamma:  0.1\n",
      "kernel:  rbf\n",
      "C:  8.686868686868687\n",
      "gamma:  0.1\n",
      "kernel:  rbf\n",
      "C:  8.787878787878787\n",
      "gamma:  0.1\n",
      "kernel:  rbf\n",
      "C:  8.88888888888889\n",
      "gamma:  0.1\n",
      "kernel:  rbf\n",
      "C:  8.98989898989899\n",
      "gamma:  0.1\n",
      "kernel:  rbf\n",
      "C:  9.09090909090909\n",
      "gamma:  0.1\n",
      "kernel:  rbf\n",
      "C:  9.191919191919192\n",
      "gamma:  0.1\n",
      "kernel:  rbf\n",
      "C:  9.292929292929292\n",
      "gamma:  0.1\n",
      "kernel:  rbf\n",
      "C:  9.393939393939394\n",
      "gamma:  0.1\n",
      "kernel:  rbf\n",
      "C:  9.494949494949495\n",
      "gamma:  0.1\n",
      "kernel:  rbf\n",
      "C:  9.595959595959595\n",
      "gamma:  0.1\n",
      "kernel:  rbf\n",
      "C:  9.696969696969697\n",
      "gamma:  0.1\n",
      "kernel:  rbf\n",
      "C:  9.797979797979798\n",
      "gamma:  0.1\n",
      "kernel:  rbf\n",
      "C:  9.8989898989899\n",
      "gamma:  0.1\n",
      "kernel:  rbf\n",
      "C:  10.0\n",
      "gamma:  0.1\n",
      "kernel:  rbf\n"
     ]
    }
   ],
   "source": [
    "grid_C = np.linspace(0, 10, 100)\n",
    "grid_gamma = [0.1]\n",
    "grid_kernel = ['rbf']\n",
    "\n",
    "iterables = [grid_C, grid_gamma, grid_kernel]\n",
    "min_loss = 1000\n",
    "\n",
    "list_val = []\n",
    "list_train = []\n",
    "\n",
    "for t in itertools.product(*iterables):\n",
    "       \n",
    "    C = t[0]\n",
    "    gamma = t[1]\n",
    "    kernel = t[2]\n",
    "    \n",
    "    print('C: ', C)\n",
    "    print('gamma: ', gamma)\n",
    "    print('kernel: ', kernel)\n",
    "    \n",
    "    X_, y_ = process_df(train_df)\n",
    "    X_val, y_val = process_df(test_df)\n",
    "\n",
    "    svm = SVM(X_, y_, C=C, gamma=gamma, kernel=kernel)\n",
    "    svm.fit(tol=1e-5, fix_intercept=False)\n",
    "       \n",
    "    train_loss = svm.eval(X_, y_)\n",
    "    val_loss = svm.eval(X_val, y_val)\n",
    "    \n",
    "    list_val.append(val_loss)\n",
    "    list_train.append(train_loss)"
   ]
  },
  {
   "cell_type": "code",
   "execution_count": 45,
   "metadata": {},
   "outputs": [
    {
     "data": {
      "image/png": "[encoded data removed]",
      "text/plain": [
       "<Figure size 864x576 with 1 Axes>"
      ]
     },
     "metadata": {
      "needs_background": "light"
     },
     "output_type": "display_data"
    }
   ],
   "source": [
    "plt.figure(figsize=(12, 8))\n",
    "plt.plot(grid_C[1:], list_train[1:])\n",
    "plt.plot(grid_C[1:], list_val[1:])\n",
    "plt.title('Validation vs Training Loss \\n RBF Kernel with Gamma=0.1')\n",
    "plt.ylabel('Accuracy')\n",
    "plt.xlabel('C')\n",
    "plt.legend(['train accuracy', 'validation accuracy'], loc='lower left')\n",
    "plt.show()"
   ]
  },
  {
   "cell_type": "code",
   "execution_count": 24,
   "metadata": {},
   "outputs": [],
   "source": [
    "atol=1e-4\n",
    "R = (((svm.alpha + atol < svm.C) & (svm.y ==  1)) | ((svm.alpha - atol > 0) & (svm.y == -1)))\n",
    "S = (((svm.alpha + atol < svm.C) & (svm.y == -1)) | ((svm.alpha - atol > 0) & (svm.y ==  1)))"
   ]
  },
  {
   "cell_type": "code",
   "execution_count": 27,
   "metadata": {},
   "outputs": [
    {
     "data": {
      "text/plain": [
       "1068"
      ]
     },
     "execution_count": 27,
     "metadata": {},
     "output_type": "execute_result"
    }
   ],
   "source": [
    "len(svm.alpha)"
   ]
  },
  {
   "cell_type": "code",
   "execution_count": 26,
   "metadata": {},
   "outputs": [
    {
     "data": {
      "text/plain": [
       "1275"
      ]
     },
     "execution_count": 26,
     "metadata": {},
     "output_type": "execute_result"
    }
   ],
   "source": [
    "sum(R)+sum(S)"
   ]
  },
  {
   "cell_type": "code",
   "execution_count": 37,
   "metadata": {},
   "outputs": [],
   "source": [
    "grad = svm.alpha @ svm.P - 1\n",
    "\n",
    "grad_y = grad*svm.y\n",
    "\n",
    "m = np.max(-grad_y[R])\n",
    "M = np.min(-grad_y[S])"
   ]
  },
  {
   "cell_type": "code",
   "execution_count": 38,
   "metadata": {},
   "outputs": [
    {
     "name": "stdout",
     "output_type": "stream",
     "text": [
      "-0.25857198495340117\n",
      "-0.26155585766967304\n"
     ]
    }
   ],
   "source": [
    "print(m)\n",
    "print(M)"
   ]
  },
  {
   "cell_type": "code",
   "execution_count": 36,
   "metadata": {},
   "outputs": [
    {
     "data": {
      "text/plain": [
       "array([ 1.41556849,  0.26091822,  1.37419451, ..., -0.26091822,\n",
       "       -0.2609182 ,  1.95229169])"
      ]
     },
     "execution_count": 36,
     "metadata": {},
     "output_type": "execute_result"
    }
   ],
   "source": [
    "svm.alpha @ svm.P - 1"
   ]
  },
  {
   "cell_type": "code",
   "execution_count": 26,
   "metadata": {},
   "outputs": [
    {
     "data": {
      "text/plain": [
       "{'x': <855x1 matrix, tc='d'>,\n",
       " 'y': <1x1 matrix, tc='d'>,\n",
       " 's': <1710x1 matrix, tc='d'>,\n",
       " 'z': <1710x1 matrix, tc='d'>,\n",
       " 'status': 'optimal',\n",
       " 'gap': 2.8634821864599725e-06,\n",
       " 'relative gap': 1.4619271752160697e-08,\n",
       " 'primal objective': -195.87037131564068,\n",
       " 'dual objective': -195.87037417912288,\n",
       " 'primal infeasibility': 5.662137425588298e-15,\n",
       " 'dual infeasibility': 4.5640987871621916e-15,\n",
       " 'primal slack': 5.628199905011636e-10,\n",
       " 'dual slack': 1.4824284282773925e-09,\n",
       " 'iterations': 12}"
      ]
     },
     "execution_count": 26,
     "metadata": {},
     "output_type": "execute_result"
    }
   ],
   "source": [
    "svm.fit_sol['iterations']"
   ]
  },
  {
   "cell_type": "code",
   "execution_count": null,
   "metadata": {},
   "outputs": [],
   "source": []
  }
 ],
 "metadata": {
  "interpreter": {
   "hash": "5fbf41bf6ad929fb0341f28c69c1bcd2fe2bae5288578e1206f967af2d9571f4"
  },
  "kernelspec": {
   "display_name": "Python 3",
   "language": "python",
   "name": "python3"
  },
  "language_info": {
   "codemirror_mode": {
    "name": "ipython",
    "version": 3
   },
   "file_extension": ".py",
   "mimetype": "text/x-python",
   "name": "python",
   "nbconvert_exporter": "python",
   "pygments_lexer": "ipython3",
   "version": "3.7.9"
  }
 },
 "nbformat": 4,
 "nbformat_minor": 4
}
