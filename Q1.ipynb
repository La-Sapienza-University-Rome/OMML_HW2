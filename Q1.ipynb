{
 "cells": [
  {
   "cell_type": "code",
   "execution_count": 23,
   "metadata": {},
   "outputs": [
    {
     "name": "stdout",
     "output_type": "stream",
     "text": [
      "The autoreload extension is already loaded. To reload it, use:\n",
      "  %reload_ext autoreload\n"
     ]
    }
   ],
   "source": [
    "%load_ext autoreload\n",
    "%autoreload 2"
   ]
  },
  {
   "cell_type": "code",
   "execution_count": 24,
   "metadata": {},
   "outputs": [],
   "source": [
    "import os\n",
    "import sys\n",
    "import matplotlib.pyplot as plt\n",
    "\n",
    "module_path = os.path.abspath(os.path.join('..\\..'))\n",
    "if module_path not in sys.path:\n",
    "    sys.path.insert(0, module_path)"
   ]
  },
  {
   "cell_type": "code",
   "execution_count": 25,
   "metadata": {},
   "outputs": [],
   "source": [
    "from funcs import SVM\n",
    "import pandas as pd\n",
    "from sklearn import preprocessing\n",
    "import numpy as np\n",
    "from sklearn.model_selection import train_test_split\n",
    "import itertools\n",
    "from sklearn.model_selection import KFold\n",
    "from sklearn.svm import SVC"
   ]
  },
  {
   "cell_type": "code",
   "execution_count": 28,
   "metadata": {},
   "outputs": [],
   "source": [
    "df = pd.read_csv('data/Letters_Q_O.csv')\n",
    "columns = list(df.columns[:-1])"
   ]
  },
  {
   "cell_type": "code",
   "execution_count": 29,
   "metadata": {},
   "outputs": [],
   "source": [
    "df[columns] = preprocessing.StandardScaler().fit_transform(df[columns])\n",
    "\n",
    "train_df, test_df = train_test_split(df, test_size=0.2, random_state=1939671)"
   ]
  },
  {
   "cell_type": "code",
   "execution_count": 30,
   "metadata": {},
   "outputs": [],
   "source": [
    "def process_df(df):\n",
    "    X = np.array(df.drop(['letter'], axis=1))\n",
    "    y_letter = np.array(df[['letter']])\n",
    "\n",
    "    y = []\n",
    "    for i in y_letter:\n",
    "        if i[0] == 'Q':\n",
    "            y.append(-1)\n",
    "        else:\n",
    "            y.append(1)\n",
    "    y = np.array(y)\n",
    "    return X, y"
   ]
  },
  {
   "cell_type": "code",
   "execution_count": null,
   "metadata": {},
   "outputs": [],
   "source": []
  },
  {
   "cell_type": "code",
   "execution_count": 31,
   "metadata": {
    "scrolled": true
   },
   "outputs": [
    {
     "name": "stdout",
     "output_type": "stream",
     "text": [
      "C:  1\n",
      "gamma:  1\n",
      "kernel:  polynomial\n",
      "Accuracy:  0.967219516475802\n",
      "Accuracy Sklearn:  0.9634855864156904\n",
      "=======================\n",
      "\n",
      "C:  1\n",
      "gamma:  2\n",
      "kernel:  polynomial\n",
      "Accuracy:  0.9812557588521784\n",
      "Accuracy Sklearn:  0.8604887894344259\n",
      "=======================\n",
      "\n",
      "C:  1\n",
      "gamma:  3\n",
      "kernel:  polynomial\n",
      "Accuracy:  0.9831380808213768\n",
      "Accuracy Sklearn:  0.9728401562020095\n",
      "=======================\n",
      "\n",
      "C:  1\n",
      "gamma:  4\n",
      "kernel:  polynomial\n",
      "Accuracy:  0.904444736957571\n",
      "Accuracy Sklearn:  0.8183405730332147\n",
      "=======================\n",
      "\n",
      "C:  1\n",
      "gamma:  5\n",
      "kernel:  polynomial\n",
      "Accuracy:  0.8707823263568952\n",
      "Accuracy Sklearn:  0.8286165591680927\n",
      "=======================\n",
      "\n",
      "C:  5\n",
      "gamma:  1\n",
      "kernel:  polynomial\n",
      "Accuracy:  0.9672107410820061\n",
      "Accuracy Sklearn:  0.9634724233249967\n",
      "=======================\n",
      "\n",
      "C:  5\n",
      "gamma:  2\n",
      "kernel:  polynomial\n",
      "Accuracy:  0.9812557588521784\n",
      "Accuracy Sklearn:  0.9101092536527577\n",
      "=======================\n",
      "\n",
      "C:  5\n",
      "gamma:  3\n",
      "kernel:  polynomial\n",
      "Accuracy:  0.9831380808213768\n",
      "Accuracy Sklearn:  0.9812689219428721\n",
      "=======================\n",
      "\n",
      "C:  5\n",
      "gamma:  4\n",
      "kernel:  polynomial\n",
      "Accuracy:  0.904444736957571\n",
      "Accuracy Sklearn:  0.9091702865166076\n",
      "=======================\n",
      "\n",
      "C:  5\n",
      "gamma:  5\n",
      "kernel:  polynomial\n"
     ]
    },
    {
     "ename": "KeyboardInterrupt",
     "evalue": "",
     "output_type": "error",
     "traceback": [
      "\u001b[1;31m---------------------------------------------------------------------------\u001b[0m",
      "\u001b[1;31mKeyboardInterrupt\u001b[0m                         Traceback (most recent call last)",
      "\u001b[1;32m<ipython-input-31-93eccc19330c>\u001b[0m in \u001b[0;36m<module>\u001b[1;34m\u001b[0m\n\u001b[0;32m     30\u001b[0m \u001b[1;33m\u001b[0m\u001b[0m\n\u001b[0;32m     31\u001b[0m         \u001b[0msvm\u001b[0m \u001b[1;33m=\u001b[0m \u001b[0mSVM\u001b[0m\u001b[1;33m(\u001b[0m\u001b[0mX_\u001b[0m\u001b[1;33m,\u001b[0m \u001b[0my_\u001b[0m\u001b[1;33m,\u001b[0m \u001b[0mC\u001b[0m\u001b[1;33m=\u001b[0m\u001b[0mC\u001b[0m\u001b[1;33m,\u001b[0m \u001b[0mgamma\u001b[0m\u001b[1;33m=\u001b[0m\u001b[0mgamma\u001b[0m\u001b[1;33m,\u001b[0m \u001b[0mkernel\u001b[0m\u001b[1;33m=\u001b[0m\u001b[0mkernel\u001b[0m\u001b[1;33m)\u001b[0m\u001b[1;33m\u001b[0m\u001b[1;33m\u001b[0m\u001b[0m\n\u001b[1;32m---> 32\u001b[1;33m         \u001b[0msvm\u001b[0m\u001b[1;33m.\u001b[0m\u001b[0mfit\u001b[0m\u001b[1;33m(\u001b[0m\u001b[0mtol\u001b[0m\u001b[1;33m=\u001b[0m\u001b[1;36m1e-5\u001b[0m\u001b[1;33m,\u001b[0m \u001b[0mfix_intercept\u001b[0m\u001b[1;33m=\u001b[0m\u001b[1;32mFalse\u001b[0m\u001b[1;33m)\u001b[0m\u001b[1;33m\u001b[0m\u001b[1;33m\u001b[0m\u001b[0m\n\u001b[0m\u001b[0;32m     33\u001b[0m \u001b[1;33m\u001b[0m\u001b[0m\n\u001b[0;32m     34\u001b[0m         \u001b[0mval_loss\u001b[0m \u001b[1;33m+=\u001b[0m \u001b[0msvm\u001b[0m\u001b[1;33m.\u001b[0m\u001b[0meval\u001b[0m\u001b[1;33m(\u001b[0m\u001b[0mX_val\u001b[0m\u001b[1;33m,\u001b[0m \u001b[0my_val\u001b[0m\u001b[1;33m)\u001b[0m\u001b[1;33m\u001b[0m\u001b[1;33m\u001b[0m\u001b[0m\n",
      "\u001b[1;32m~\\Documents\\Master\\Data Science\\3_Semester\\Optimization_Methods\\Project\\HW2\\funcs.py\u001b[0m in \u001b[0;36mfit\u001b[1;34m(self, tol, fix_intercept)\u001b[0m\n\u001b[0;32m     96\u001b[0m \u001b[1;33m\u001b[0m\u001b[0m\n\u001b[0;32m     97\u001b[0m         \u001b[0msolvers\u001b[0m\u001b[1;33m.\u001b[0m\u001b[0moptions\u001b[0m\u001b[1;33m[\u001b[0m\u001b[1;34m'show_progress'\u001b[0m\u001b[1;33m]\u001b[0m \u001b[1;33m=\u001b[0m \u001b[1;32mFalse\u001b[0m\u001b[1;33m\u001b[0m\u001b[1;33m\u001b[0m\u001b[0m\n\u001b[1;32m---> 98\u001b[1;33m         \u001b[0mself\u001b[0m\u001b[1;33m.\u001b[0m\u001b[0mfit_sol\u001b[0m \u001b[1;33m=\u001b[0m \u001b[0msolvers\u001b[0m\u001b[1;33m.\u001b[0m\u001b[0mqp\u001b[0m\u001b[1;33m(\u001b[0m\u001b[0mself\u001b[0m\u001b[1;33m.\u001b[0m\u001b[0mP\u001b[0m\u001b[1;33m,\u001b[0m \u001b[0mself\u001b[0m\u001b[1;33m.\u001b[0m\u001b[0mq\u001b[0m\u001b[1;33m,\u001b[0m \u001b[0mself\u001b[0m\u001b[1;33m.\u001b[0m\u001b[0mG\u001b[0m\u001b[1;33m,\u001b[0m \u001b[0mself\u001b[0m\u001b[1;33m.\u001b[0m\u001b[0mh\u001b[0m\u001b[1;33m,\u001b[0m \u001b[0mself\u001b[0m\u001b[1;33m.\u001b[0m\u001b[0mA\u001b[0m\u001b[1;33m,\u001b[0m \u001b[0mself\u001b[0m\u001b[1;33m.\u001b[0m\u001b[0mb\u001b[0m\u001b[1;33m)\u001b[0m\u001b[1;33m\u001b[0m\u001b[1;33m\u001b[0m\u001b[0m\n\u001b[0m\u001b[0;32m     99\u001b[0m \u001b[1;33m\u001b[0m\u001b[0m\n\u001b[0;32m    100\u001b[0m         \u001b[0mself\u001b[0m\u001b[1;33m.\u001b[0m\u001b[0malpha\u001b[0m \u001b[1;33m=\u001b[0m \u001b[0mnp\u001b[0m\u001b[1;33m.\u001b[0m\u001b[0mravel\u001b[0m\u001b[1;33m(\u001b[0m\u001b[0mself\u001b[0m\u001b[1;33m.\u001b[0m\u001b[0mfit_sol\u001b[0m\u001b[1;33m[\u001b[0m\u001b[1;34m'x'\u001b[0m\u001b[1;33m]\u001b[0m\u001b[1;33m)\u001b[0m\u001b[1;33m\u001b[0m\u001b[1;33m\u001b[0m\u001b[0m\n",
      "\u001b[1;32m~\\Anaconda3\\envs\\data_science_general\\lib\\site-packages\\cvxopt\\coneprog.py\u001b[0m in \u001b[0;36mqp\u001b[1;34m(P, q, G, h, A, b, solver, kktsolver, initvals, **kwargs)\u001b[0m\n\u001b[0;32m   4483\u001b[0m             'residual as dual infeasibility certificate': dinfres}\n\u001b[0;32m   4484\u001b[0m \u001b[1;33m\u001b[0m\u001b[0m\n\u001b[1;32m-> 4485\u001b[1;33m     \u001b[1;32mreturn\u001b[0m \u001b[0mconeqp\u001b[0m\u001b[1;33m(\u001b[0m\u001b[0mP\u001b[0m\u001b[1;33m,\u001b[0m \u001b[0mq\u001b[0m\u001b[1;33m,\u001b[0m \u001b[0mG\u001b[0m\u001b[1;33m,\u001b[0m \u001b[0mh\u001b[0m\u001b[1;33m,\u001b[0m \u001b[1;32mNone\u001b[0m\u001b[1;33m,\u001b[0m \u001b[0mA\u001b[0m\u001b[1;33m,\u001b[0m  \u001b[0mb\u001b[0m\u001b[1;33m,\u001b[0m \u001b[0minitvals\u001b[0m\u001b[1;33m,\u001b[0m \u001b[0mkktsolver\u001b[0m \u001b[1;33m=\u001b[0m \u001b[0mkktsolver\u001b[0m\u001b[1;33m,\u001b[0m \u001b[0moptions\u001b[0m \u001b[1;33m=\u001b[0m \u001b[0moptions\u001b[0m\u001b[1;33m)\u001b[0m\u001b[1;33m\u001b[0m\u001b[1;33m\u001b[0m\u001b[0m\n\u001b[0m",
      "\u001b[1;32m~\\Anaconda3\\envs\\data_science_general\\lib\\site-packages\\cvxopt\\coneprog.py\u001b[0m in \u001b[0;36mconeqp\u001b[1;34m(P, q, G, h, dims, A, b, initvals, kktsolver, xnewcopy, xdot, xaxpy, xscal, ynewcopy, ydot, yaxpy, yscal, **kwargs)\u001b[0m\n\u001b[0;32m   2254\u001b[0m         \u001b[1;31m# On exit, they contain ux, uy, uz.\u001b[0m\u001b[1;33m\u001b[0m\u001b[1;33m\u001b[0m\u001b[1;33m\u001b[0m\u001b[0m\n\u001b[0;32m   2255\u001b[0m \u001b[1;33m\u001b[0m\u001b[0m\n\u001b[1;32m-> 2256\u001b[1;33m         \u001b[1;32mtry\u001b[0m\u001b[1;33m:\u001b[0m \u001b[0mf3\u001b[0m \u001b[1;33m=\u001b[0m \u001b[0mkktsolver\u001b[0m\u001b[1;33m(\u001b[0m\u001b[0mW\u001b[0m\u001b[1;33m)\u001b[0m\u001b[1;33m\u001b[0m\u001b[1;33m\u001b[0m\u001b[0m\n\u001b[0m\u001b[0;32m   2257\u001b[0m         \u001b[1;32mexcept\u001b[0m \u001b[0mArithmeticError\u001b[0m\u001b[1;33m:\u001b[0m\u001b[1;33m\u001b[0m\u001b[1;33m\u001b[0m\u001b[0m\n\u001b[0;32m   2258\u001b[0m             \u001b[1;32mif\u001b[0m \u001b[0miters\u001b[0m \u001b[1;33m==\u001b[0m \u001b[1;36m0\u001b[0m\u001b[1;33m:\u001b[0m\u001b[1;33m\u001b[0m\u001b[1;33m\u001b[0m\u001b[0m\n",
      "\u001b[1;32m~\\Anaconda3\\envs\\data_science_general\\lib\\site-packages\\cvxopt\\coneprog.py\u001b[0m in \u001b[0;36mkktsolver\u001b[1;34m(W)\u001b[0m\n\u001b[0;32m   1979\u001b[0m              \u001b[0mfactor\u001b[0m \u001b[1;33m=\u001b[0m \u001b[0mmisc\u001b[0m\u001b[1;33m.\u001b[0m\u001b[0mkkt_chol2\u001b[0m\u001b[1;33m(\u001b[0m\u001b[0mG\u001b[0m\u001b[1;33m,\u001b[0m \u001b[0mdims\u001b[0m\u001b[1;33m,\u001b[0m \u001b[0mA\u001b[0m\u001b[1;33m)\u001b[0m\u001b[1;33m\u001b[0m\u001b[1;33m\u001b[0m\u001b[0m\n\u001b[0;32m   1980\u001b[0m          \u001b[1;32mdef\u001b[0m \u001b[0mkktsolver\u001b[0m\u001b[1;33m(\u001b[0m\u001b[0mW\u001b[0m\u001b[1;33m)\u001b[0m\u001b[1;33m:\u001b[0m\u001b[1;33m\u001b[0m\u001b[1;33m\u001b[0m\u001b[0m\n\u001b[1;32m-> 1981\u001b[1;33m              \u001b[1;32mreturn\u001b[0m \u001b[0mfactor\u001b[0m\u001b[1;33m(\u001b[0m\u001b[0mW\u001b[0m\u001b[1;33m,\u001b[0m \u001b[0mP\u001b[0m\u001b[1;33m)\u001b[0m\u001b[1;33m\u001b[0m\u001b[1;33m\u001b[0m\u001b[0m\n\u001b[0m\u001b[0;32m   1982\u001b[0m \u001b[1;33m\u001b[0m\u001b[0m\n\u001b[0;32m   1983\u001b[0m     \u001b[1;32mif\u001b[0m \u001b[0mxnewcopy\u001b[0m \u001b[1;32mis\u001b[0m \u001b[1;32mNone\u001b[0m\u001b[1;33m:\u001b[0m \u001b[0mxnewcopy\u001b[0m \u001b[1;33m=\u001b[0m \u001b[0mmatrix\u001b[0m\u001b[1;33m\u001b[0m\u001b[1;33m\u001b[0m\u001b[0m\n",
      "\u001b[1;32m~\\Anaconda3\\envs\\data_science_general\\lib\\site-packages\\cvxopt\\misc.py\u001b[0m in \u001b[0;36mfactor\u001b[1;34m(W, H, Df)\u001b[0m\n\u001b[0;32m   1419\u001b[0m             G, F['Gs'], partial = True)\n\u001b[0;32m   1420\u001b[0m \u001b[1;33m\u001b[0m\u001b[0m\n\u001b[1;32m-> 1421\u001b[1;33m         \u001b[1;32mif\u001b[0m \u001b[0mF\u001b[0m\u001b[1;33m[\u001b[0m\u001b[1;34m'firstcall'\u001b[0m\u001b[1;33m]\u001b[0m\u001b[1;33m:\u001b[0m\u001b[1;33m\u001b[0m\u001b[1;33m\u001b[0m\u001b[0m\n\u001b[0m\u001b[0;32m   1422\u001b[0m             \u001b[0mbase\u001b[0m\u001b[1;33m.\u001b[0m\u001b[0msyrk\u001b[0m\u001b[1;33m(\u001b[0m\u001b[0mF\u001b[0m\u001b[1;33m[\u001b[0m\u001b[1;34m'Gs'\u001b[0m\u001b[1;33m]\u001b[0m\u001b[1;33m,\u001b[0m \u001b[0mF\u001b[0m\u001b[1;33m[\u001b[0m\u001b[1;34m'S'\u001b[0m\u001b[1;33m]\u001b[0m\u001b[1;33m,\u001b[0m \u001b[0mtrans\u001b[0m \u001b[1;33m=\u001b[0m \u001b[1;34m'T'\u001b[0m\u001b[1;33m)\u001b[0m\u001b[1;33m\u001b[0m\u001b[1;33m\u001b[0m\u001b[0m\n\u001b[0;32m   1423\u001b[0m             \u001b[1;32mif\u001b[0m \u001b[0mmnl\u001b[0m\u001b[1;33m:\u001b[0m\u001b[1;33m\u001b[0m\u001b[1;33m\u001b[0m\u001b[0m\n",
      "\u001b[1;31mKeyboardInterrupt\u001b[0m: "
     ]
    }
   ],
   "source": [
    "grid_C = [1, 5, 10, 20, 30, 40, 50]\n",
    "grid_gamma = [1, 2, 3, 4, 5]\n",
    "grid_kernel = ['polynomial']\n",
    "\n",
    "iterables = [grid_C, grid_gamma, grid_kernel]\n",
    "min_loss = 1000\n",
    "k_fold = 5\n",
    "\n",
    "kf5 = KFold(n_splits=k_fold, shuffle=False)\n",
    "\n",
    "list_ = [['C', 'Gamma', 'Kernel', 'Validation Loss']]\n",
    "\n",
    "for t in itertools.product(*iterables):\n",
    "    \n",
    "    val_loss = 0\n",
    "    val_loss_sklearn = 0\n",
    "    \n",
    "    C = t[0]\n",
    "    gamma = t[1]\n",
    "    kernel = t[2]\n",
    "    \n",
    "    print('C: ', C)\n",
    "    print('gamma: ', gamma)\n",
    "    print('kernel: ', kernel)\n",
    "    \n",
    "    for train_index, test_index in kf5.split(train_df):\n",
    "        \n",
    "        X_, y_ = process_df(train_df.iloc[train_index])\n",
    "        X_val, y_val = process_df(train_df.iloc[test_index])\n",
    "\n",
    "        svm = SVM(X_, y_, C=C, gamma=gamma, kernel=kernel)\n",
    "        svm.fit(tol=1e-5, fix_intercept=False)\n",
    "        \n",
    "        val_loss += svm.eval(X_val, y_val)\n",
    "        \n",
    "        # sklearn implementation\n",
    "        clf = SVC(kernel = 'poly', degree=gamma, C=C)\n",
    "        clf.fit(X_, y_)\n",
    "        val_loss_sklearn += clf.score(X_val, y_val)\n",
    "        \n",
    "    val_loss = val_loss/k_fold\n",
    "    val_loss_sklearn = val_loss_sklearn/k_fold\n",
    "    print('Accuracy: ', val_loss)\n",
    "    print('Accuracy Sklearn: ', val_loss_sklearn)\n",
    "    print('=======================')\n",
    "    print('')\n",
    "    \n",
    "    list_.append([C, gamma, kernel, val_loss])"
   ]
  },
  {
   "cell_type": "code",
   "execution_count": null,
   "metadata": {},
   "outputs": [],
   "source": [
    "grid_C = [1, 5, 10, 20, 30, 40, 50]\n",
    "grid_gamma = [0.01, 0.1, 0.2, 0.5, 0.75, 0.9]\n",
    "grid_kernel = ['rbf']\n",
    "\n",
    "iterables = [grid_C, grid_gamma, grid_kernel]\n",
    "min_loss = 1000\n",
    "k_fold = 5\n",
    "\n",
    "kf5 = KFold(n_splits=k_fold, shuffle=False)\n",
    "\n",
    "for t in itertools.product(*iterables):\n",
    "    \n",
    "    val_loss = 0\n",
    "    val_loss_sklearn = 0\n",
    "    \n",
    "    C = t[0]\n",
    "    gamma = t[1]\n",
    "    kernel = t[2]\n",
    "    \n",
    "    print('C: ', C)\n",
    "    print('gamma: ', gamma)\n",
    "    print('kernel: ', kernel)\n",
    "    \n",
    "    for train_index, test_index in kf5.split(train_df):\n",
    "        \n",
    "        X_, y_ = process_df(train_df.iloc[train_index])\n",
    "        X_val, y_val = process_df(train_df.iloc[test_index])\n",
    "\n",
    "        svm = SVM(X_, y_, C=C, gamma=gamma, kernel=kernel)\n",
    "        svm.fit(tol=1e-5, fix_intercept=False)\n",
    "        \n",
    "        # sklearn implementation\n",
    "        clf = SVC(kernel = 'rbf', gamma=gamma, C=1/C)\n",
    "        clf.fit(X_, y_)\n",
    "        val_loss_sklearn += clf.score(X_val, y_val)\n",
    "        \n",
    "        val_loss += svm.eval(X_val, y_val)\n",
    "        \n",
    "    val_loss = val_loss/k_fold\n",
    "    val_loss_sklearn = val_loss_sklearn/k_fold\n",
    "    print('Accuracy: ', val_loss)\n",
    "    print('Accuracy Sklearn: ', val_loss_sklearn)\n",
    "    print('=======================')\n",
    "    print('')\n",
    "    \n",
    "    list_.append([C, gamma, kernel, val_loss])"
   ]
  },
  {
   "cell_type": "code",
   "execution_count": null,
   "metadata": {},
   "outputs": [],
   "source": [
    "res_df = pd.DataFrame(list_)\n",
    "res_df.to_csv('res.csv', index=False, header=False)"
   ]
  },
  {
   "cell_type": "code",
   "execution_count": null,
   "metadata": {},
   "outputs": [],
   "source": []
  },
  {
   "cell_type": "code",
   "execution_count": null,
   "metadata": {},
   "outputs": [],
   "source": []
  },
  {
   "cell_type": "code",
   "execution_count": null,
   "metadata": {},
   "outputs": [],
   "source": []
  },
  {
   "cell_type": "code",
   "execution_count": null,
   "metadata": {},
   "outputs": [],
   "source": []
  },
  {
   "cell_type": "markdown",
   "metadata": {},
   "source": [
    "## MultiClass SVM"
   ]
  },
  {
   "cell_type": "code",
   "execution_count": 130,
   "metadata": {},
   "outputs": [],
   "source": [
    "def convert_labels(list_, dict_):\n",
    "    \"\"\"\n",
    "    List contains the predictions e.g. [-1, 1, 1, -1, ...]\n",
    "    Dictionary contains the relation, e.g. {'-1': 'Q', '1': 'D'}\n",
    "    \"\"\"\n",
    "    \n",
    "    l = [dict_[i] for i in list_]\n",
    "    \n",
    "    return l"
   ]
  },
  {
   "cell_type": "code",
   "execution_count": 131,
   "metadata": {},
   "outputs": [],
   "source": [
    "def voting(list_):\n",
    "    \"\"\"\n",
    "    list_ is a list of lists\n",
    "    \"\"\"\n",
    "    best = []\n",
    "    l = list(map(list, zip(*list_)))\n",
    "    for i in l:\n",
    "        t = {'Q':0, 'O':0, 'D':0}\n",
    "        for j in i:\n",
    "            t[j] += 1\n",
    "        best.append(max(t, key=t.get))\n",
    "    return best"
   ]
  },
  {
   "cell_type": "code",
   "execution_count": 132,
   "metadata": {},
   "outputs": [],
   "source": [
    "import copy\n",
    "\n",
    "def process_df(df, letters=['Q', 'O'], test=False):\n",
    "    df = df.copy()\n",
    "    if test:\n",
    "        X = np.array(df.drop(['letter'], axis=1))\n",
    "        y_letter = np.array(df[['letter']])\n",
    "        return X, np.array(y_letter)\n",
    "    else:\n",
    "        df = df[df.letter.isin(letters)]\n",
    "        X = np.array(df.drop(['letter'], axis=1))\n",
    "        y_letter = np.array(df[['letter']])\n",
    "\n",
    "        y = []\n",
    "        for i in y_letter:\n",
    "            if i[0] == letters[0]:\n",
    "                y.append(-1)\n",
    "            else:\n",
    "                y.append(1)\n",
    "        y = np.array(y)\n",
    "        return X, y"
   ]
  },
  {
   "cell_type": "code",
   "execution_count": 133,
   "metadata": {},
   "outputs": [],
   "source": [
    "df_Q_O = pd.read_csv('data/Letters_Q_O.csv')\n",
    "df_D = pd.read_csv('data/Letter_D.csv')\n",
    "df = pd.concat([df_D, df_Q_O])\n",
    "\n",
    "columns = list(df.columns[:-1])\n",
    "\n",
    "df[columns] = preprocessing.StandardScaler().fit_transform(df[columns])\n",
    "\n",
    "train_df, test_df = train_test_split(df, test_size=0.2, random_state=1939671)"
   ]
  },
  {
   "cell_type": "code",
   "execution_count": 134,
   "metadata": {},
   "outputs": [],
   "source": [
    "C = 5\n",
    "gamma = 0.1\n",
    "kernel = 'rbf'\n",
    "\n",
    "X_Q_O, y_Q_O = process_df(train_df, ['Q', 'O'])\n",
    "X_Q_D, y_Q_D = process_df(train_df, ['Q', 'D'])\n",
    "X_D_O, y_D_O = process_df(train_df, ['D', 'O'])\n",
    "\n",
    "X_test, y_test = process_df(test_df, test=True)"
   ]
  },
  {
   "cell_type": "code",
   "execution_count": 135,
   "metadata": {},
   "outputs": [],
   "source": [
    "SVM_Q_O = SVM(X_Q_O, y_Q_O, C=C, gamma=gamma, kernel=kernel)\n",
    "SVM_Q_O.fit(tol=1e-5, fix_intercept=False)\n",
    "\n",
    "SVM_Q_D = SVM(X_Q_D, y_Q_D, C=C, gamma=gamma, kernel=kernel)\n",
    "SVM_Q_D.fit(tol=1e-5, fix_intercept=False)\n",
    "\n",
    "SVM_D_O = SVM(X_D_O, y_D_O, C=C, gamma=gamma, kernel=kernel)\n",
    "SVM_D_O.fit(tol=1e-5, fix_intercept=False)"
   ]
  },
  {
   "cell_type": "code",
   "execution_count": 136,
   "metadata": {
    "scrolled": true
   },
   "outputs": [
    {
     "name": "stdout",
     "output_type": "stream",
     "text": [
      "Accuracy:  0.9901960784313726\n"
     ]
    }
   ],
   "source": [
    "l1 = convert_labels(SVM_Q_O.pred(X_test), {-1: 'Q', 1: 'O'})\n",
    "l2 = convert_labels(SVM_Q_D.pred(X_test), {-1: 'Q', 1: 'D'})\n",
    "l3 = convert_labels(SVM_D_O.pred(X_test), {-1: 'D', 1: 'O'})\n",
    "\n",
    "l = [l1, l2, l3]\n",
    "l = voting(l)\n",
    "\n",
    "y_test = [item for sublist in y_test for item in sublist]\n",
    "\n",
    "print('Accuracy: ', sum(np.array(y_test) == np.array(l))/len(y_test))"
   ]
  },
  {
   "cell_type": "code",
   "execution_count": null,
   "metadata": {},
   "outputs": [],
   "source": []
  },
  {
   "cell_type": "code",
   "execution_count": null,
   "metadata": {},
   "outputs": [],
   "source": []
  }
 ],
 "metadata": {
  "interpreter": {
   "hash": "5fbf41bf6ad929fb0341f28c69c1bcd2fe2bae5288578e1206f967af2d9571f4"
  },
  "kernelspec": {
   "display_name": "Python 3",
   "language": "python",
   "name": "python3"
  },
  "language_info": {
   "codemirror_mode": {
    "name": "ipython",
    "version": 3
   },
   "file_extension": ".py",
   "mimetype": "text/x-python",
   "name": "python",
   "nbconvert_exporter": "python",
   "pygments_lexer": "ipython3",
   "version": "3.7.9"
  }
 },
 "nbformat": 4,
 "nbformat_minor": 4
}
